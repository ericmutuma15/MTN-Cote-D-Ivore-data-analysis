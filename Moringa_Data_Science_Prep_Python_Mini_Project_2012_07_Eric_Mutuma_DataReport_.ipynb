{
  "nbformat": 4,
  "nbformat_minor": 0,
  "metadata": {
    "colab": {
      "provenance": [],
      "toc_visible": true
    },
    "kernelspec": {
      "name": "python3",
      "display_name": "Python 3"
    },
    "language_info": {
      "name": "python"
    }
  },
  "cells": [
    {
      "cell_type": "markdown",
      "source": [
        "#OVERVIEW"
      ],
      "metadata": {
        "id": "zHoj5t6gdK36"
      }
    },
    {
      "cell_type": "markdown",
      "source": [
        ">Objectives Of The Project"
      ],
      "metadata": {
        "id": "soOsnFRl6U8Y"
      }
    },
    {
      "cell_type": "markdown",
      "source": [
        "The objective of this project will be to follow the CRISP-DM methodology to answer research questions that give insights to MTN Cote D'Ivore company in quest to expand their infrastructure around the country.\n",
        "The following are the research questions that were set to be answered:\n",
        "\n",
        "\n",
        "1. ***Which regions in the country have the most and least service status?***\n",
        "2. ***What is the average value of the products?***\n",
        "3. ***Which are the cell numbers of MTN users that are not in service?***\n",
        "\n",
        "4. ***Which cities in Cote D'Ivore is MTN most used?***\n",
        "5. ***Which cities is MTN most used during business hours?***\n",
        "\n",
        "\n",
        "\n",
        "\n"
      ],
      "metadata": {
        "id": "K4a5NZJC7RqL"
      }
    },
    {
      "cell_type": "markdown",
      "source": [
        ">Project Plan"
      ],
      "metadata": {
        "id": "tFYUMXxc6c8U"
      }
    },
    {
      "cell_type": "markdown",
      "source": [
        "The following is the list of steps that was decided to be followed throughout the process of answering the research questions and to come up with the required insights into the business requirement:\n",
        "1. Import the given data into a pandas dataframe\n",
        "2. View the data and understand its structure and the datatypes contained in it.\n",
        "3. Perform tasks to clean, merge and integrate the data.\n",
        "4. Analyze the data using aggregates and basic visualisations.\n",
        "5. Compile a data story for the client."
      ],
      "metadata": {
        "id": "pRHAaV6bEKNI"
      }
    },
    {
      "cell_type": "markdown",
      "source": [
        ">Requirements, Assumptions and Constraints\n",
        "\n"
      ],
      "metadata": {
        "id": "2KIwkqJj6vpZ"
      }
    },
    {
      "cell_type": "markdown",
      "source": [
        "1. Requirements for this project were: P.C, internet connection and a python IDE\n",
        "2. Assumptions related to the provided data was that all missing values were equated to zero during data cleaning process\n",
        "3. Constraints include the fact that the datasets could not be merged into one due to the unique time factor of each data.\n",
        "4. Small time frame of the data made it hard to perform a time series visualization because the line graphs could not be well scaled for effective visibility."
      ],
      "metadata": {
        "id": "5VvvAYhQHlik"
      }
    },
    {
      "cell_type": "markdown",
      "source": [
        "#Connecting to the database"
      ],
      "metadata": {
        "id": "Kgd97tw-UEGF"
      }
    },
    {
      "cell_type": "code",
      "execution_count": null,
      "metadata": {
        "colab": {
          "base_uri": "https://localhost:8080/",
          "height": 70
        },
        "id": "je55VHuNQq3v",
        "outputId": "4e71462f-bff4-4c88-c6e3-a19c7c64873c"
      },
      "outputs": [
        {
          "output_type": "stream",
          "name": "stdout",
          "text": [
            "The sql extension is already loaded. To reload it, use:\n",
            "  %reload_ext sql\n"
          ]
        },
        {
          "output_type": "execute_result",
          "data": {
            "text/plain": [
              "'Connected: @None'"
            ],
            "application/vnd.google.colaboratory.intrinsic+json": {
              "type": "string"
            }
          },
          "metadata": {},
          "execution_count": 131
        }
      ],
      "source": [
        "%load_ext sql\n",
        "\n",
        "%sql sqlite://"
      ]
    },
    {
      "cell_type": "markdown",
      "source": [
        "#Importing csv and pandas libraries"
      ],
      "metadata": {
        "id": "eWSFwwTuUNGK"
      }
    },
    {
      "cell_type": "code",
      "source": [
        "import csv\n",
        "\n",
        "import pandas as pd"
      ],
      "metadata": {
        "id": "wt321hoJSiar"
      },
      "execution_count": null,
      "outputs": []
    },
    {
      "cell_type": "markdown",
      "source": [
        "#Importing data from the csv files"
      ],
      "metadata": {
        "id": "Snu_M9iNUaIr"
      }
    },
    {
      "cell_type": "code",
      "source": [
        "with open('Telcom_dataset.csv','r') as f:\n",
        "    df1 = pd.read_csv(f, encoding='utf-8') \n",
        "\n",
        "\n",
        "\n",
        "with open('Telcom_dataset2.csv','r') as f:\n",
        "    df2 = pd.read_csv(f, encoding='utf-8') \n",
        "\n",
        "\n",
        "with open('Telcom_dataset3.csv','r') as f:\n",
        "    df3 = pd.read_csv(f, encoding='utf-8') \n",
        "\n"
      ],
      "metadata": {
        "id": "7wUSwClHSopb"
      },
      "execution_count": null,
      "outputs": []
    },
    {
      "cell_type": "markdown",
      "source": [
        "#push imported data into new tables within current SQLite Database "
      ],
      "metadata": {
        "id": "LL7WsIabVN3c"
      }
    },
    {
      "cell_type": "code",
      "source": [
        "%sql DROP TABLE if EXISTS df1;\n",
        "%sql PERSIST df1;\n",
        "\n",
        "%sql DROP TABLE if EXISTS df2;\n",
        "%sql PERSIST df2;\n",
        "\n",
        "%sql DROP TABLE if EXISTS df3;\n",
        "%sql PERSIST df3;"
      ],
      "metadata": {
        "colab": {
          "base_uri": "https://localhost:8080/",
          "height": 192
        },
        "id": "hYUIplFkUisK",
        "outputId": "9d30c99f-06b9-4143-8645-13bfccdb49b2"
      },
      "execution_count": null,
      "outputs": [
        {
          "output_type": "stream",
          "name": "stdout",
          "text": [
            " * sqlite://\n",
            "Done.\n",
            " * sqlite://\n",
            " * sqlite://\n",
            "Done.\n",
            " * sqlite://\n",
            " * sqlite://\n",
            "Done.\n",
            " * sqlite://\n"
          ]
        },
        {
          "output_type": "execute_result",
          "data": {
            "text/plain": [
              "'Persisted df3'"
            ],
            "application/vnd.google.colaboratory.intrinsic+json": {
              "type": "string"
            }
          },
          "metadata": {},
          "execution_count": 133
        }
      ]
    },
    {
      "cell_type": "code",
      "source": [
        "%%sql\n",
        "SELECT * FROM df1 LIMIT 2;"
      ],
      "metadata": {
        "colab": {
          "base_uri": "https://localhost:8080/",
          "height": 207
        },
        "id": "VVXLa8gDVzz7",
        "outputId": "d0b7d408-c385-486a-9bba-c19e8a7c161d"
      },
      "execution_count": null,
      "outputs": [
        {
          "output_type": "stream",
          "name": "stdout",
          "text": [
            " * sqlite://\n",
            "Done.\n"
          ]
        },
        {
          "output_type": "execute_result",
          "data": {
            "text/plain": [
              "[(0, 'Voice', 0, '2012-05-06 23:04:37.0', '1', '49fae048b547780', '1a49f8b0ded9de6', '19e2e', '19e2e', '/TJNe+Mmtu', '/TJNe+Mmtu'),\n",
              " (1, 'sms', 0, '2012-05-06 23:05:25.0', '0', '7a54a6eaee19e65', '93343ba6e41af95', '19e2e', '19e2e', '/+cKZKIp41', '/+cKZKIp41')]"
            ],
            "text/html": [
              "<table>\n",
              "    <thead>\n",
              "        <tr>\n",
              "            <th>index</th>\n",
              "            <th>PRODUTC</th>\n",
              "            <th>VALUE</th>\n",
              "            <th>DATETIME</th>\n",
              "            <th>CELL_ON_SITE</th>\n",
              "            <th>DW_A_NUMBER_INT</th>\n",
              "            <th>DW_B_NUMBER_INT</th>\n",
              "            <th>COUNTRY_A</th>\n",
              "            <th>COUNTRY_B</th>\n",
              "            <th>CELL_ID</th>\n",
              "            <th>SITE_ID</th>\n",
              "        </tr>\n",
              "    </thead>\n",
              "    <tbody>\n",
              "        <tr>\n",
              "            <td>0</td>\n",
              "            <td>Voice</td>\n",
              "            <td>0</td>\n",
              "            <td>2012-05-06 23:04:37.0</td>\n",
              "            <td>1</td>\n",
              "            <td>49fae048b547780</td>\n",
              "            <td>1a49f8b0ded9de6</td>\n",
              "            <td>19e2e</td>\n",
              "            <td>19e2e</td>\n",
              "            <td>/TJNe+Mmtu</td>\n",
              "            <td>/TJNe+Mmtu</td>\n",
              "        </tr>\n",
              "        <tr>\n",
              "            <td>1</td>\n",
              "            <td>sms</td>\n",
              "            <td>0</td>\n",
              "            <td>2012-05-06 23:05:25.0</td>\n",
              "            <td>0</td>\n",
              "            <td>7a54a6eaee19e65</td>\n",
              "            <td>93343ba6e41af95</td>\n",
              "            <td>19e2e</td>\n",
              "            <td>19e2e</td>\n",
              "            <td>/+cKZKIp41</td>\n",
              "            <td>/+cKZKIp41</td>\n",
              "        </tr>\n",
              "    </tbody>\n",
              "</table>"
            ]
          },
          "metadata": {},
          "execution_count": 134
        }
      ]
    },
    {
      "cell_type": "code",
      "source": [
        "%%sql\n",
        "SELECT * FROM df2 LIMIT 2;"
      ],
      "metadata": {
        "colab": {
          "base_uri": "https://localhost:8080/",
          "height": 173
        },
        "id": "-R7dXflmWA86",
        "outputId": "c35082cd-b917-46bb-dfbc-864de3d0b9e4"
      },
      "execution_count": null,
      "outputs": [
        {
          "output_type": "stream",
          "name": "stdout",
          "text": [
            " * sqlite://\n",
            "Done.\n"
          ]
        },
        {
          "output_type": "execute_result",
          "data": {
            "text/plain": [
              "[(0, 'sms', 0, '2012-05-07 23:02:06.0', '2', '32255675c3b6fe3', '1aa7ae01386e9fb', '19e2e', '19e2e', '+854AcBQT2', '+854AcBQT2'),\n",
              " (1, 'Voice', 0, '2012-05-07 23:03:44.0', '1', 'ff16d6ac74c1c64', '87d87309c15a8c9', '19e2e', '19e2e', '+854AcBQT2', '+854AcBQT2')]"
            ],
            "text/html": [
              "<table>\n",
              "    <thead>\n",
              "        <tr>\n",
              "            <th>index</th>\n",
              "            <th>PRODUCT</th>\n",
              "            <th>VALUE</th>\n",
              "            <th>DATE_TIME</th>\n",
              "            <th>CELL_ON_SITE</th>\n",
              "            <th>DW_A_NUMBER</th>\n",
              "            <th>DW_B_NUMBER</th>\n",
              "            <th>COUNTRY_A</th>\n",
              "            <th>COUNTRY_B</th>\n",
              "            <th>CELL_ID</th>\n",
              "            <th>SITE_ID</th>\n",
              "        </tr>\n",
              "    </thead>\n",
              "    <tbody>\n",
              "        <tr>\n",
              "            <td>0</td>\n",
              "            <td>sms</td>\n",
              "            <td>0</td>\n",
              "            <td>2012-05-07 23:02:06.0</td>\n",
              "            <td>2</td>\n",
              "            <td>32255675c3b6fe3</td>\n",
              "            <td>1aa7ae01386e9fb</td>\n",
              "            <td>19e2e</td>\n",
              "            <td>19e2e</td>\n",
              "            <td>+854AcBQT2</td>\n",
              "            <td>+854AcBQT2</td>\n",
              "        </tr>\n",
              "        <tr>\n",
              "            <td>1</td>\n",
              "            <td>Voice</td>\n",
              "            <td>0</td>\n",
              "            <td>2012-05-07 23:03:44.0</td>\n",
              "            <td>1</td>\n",
              "            <td>ff16d6ac74c1c64</td>\n",
              "            <td>87d87309c15a8c9</td>\n",
              "            <td>19e2e</td>\n",
              "            <td>19e2e</td>\n",
              "            <td>+854AcBQT2</td>\n",
              "            <td>+854AcBQT2</td>\n",
              "        </tr>\n",
              "    </tbody>\n",
              "</table>"
            ]
          },
          "metadata": {},
          "execution_count": 126
        }
      ]
    },
    {
      "cell_type": "code",
      "source": [
        "%%sql\n",
        "SELECT * FROM df3 LIMIT 2;"
      ],
      "metadata": {
        "colab": {
          "base_uri": "https://localhost:8080/",
          "height": 173
        },
        "id": "MYeGc3wQWBIA",
        "outputId": "623d5e15-1170-48fc-b3fa-3f8dbbceaff6"
      },
      "execution_count": null,
      "outputs": [
        {
          "output_type": "stream",
          "name": "stdout",
          "text": [
            " * sqlite://\n",
            "Done.\n"
          ]
        },
        {
          "output_type": "execute_result",
          "data": {
            "text/plain": [
              "[(0, 'Voice', 61, '2012-05-08 23:01:28.0', '2', '966f68353622feb', 'ffd53a3bb2db6f1', '19e2e', '19e2e', '+38u2u/rfx', '+38u2u/rfx'),\n",
              " (1, 'sms', 0, '2012-05-08 23:01:31.0', '1', 'a0a597384c612d7', 'cf3b218f1dde792', '19e2e', '19e2e', '+Fs4mTvdKx', '+Fs4mTvdKx')]"
            ],
            "text/html": [
              "<table>\n",
              "    <thead>\n",
              "        <tr>\n",
              "            <th>index</th>\n",
              "            <th>PRODUCT</th>\n",
              "            <th>VALUE</th>\n",
              "            <th>DATE_TIME</th>\n",
              "            <th>CELL_ON_SITE</th>\n",
              "            <th>DW_A_NUMBER_INT</th>\n",
              "            <th>DW_B_NUMBER_INT</th>\n",
              "            <th>COUNTRY_A</th>\n",
              "            <th>COUNTRY_B</th>\n",
              "            <th>CELLID</th>\n",
              "            <th>SIET_ID</th>\n",
              "        </tr>\n",
              "    </thead>\n",
              "    <tbody>\n",
              "        <tr>\n",
              "            <td>0</td>\n",
              "            <td>Voice</td>\n",
              "            <td>61</td>\n",
              "            <td>2012-05-08 23:01:28.0</td>\n",
              "            <td>2</td>\n",
              "            <td>966f68353622feb</td>\n",
              "            <td>ffd53a3bb2db6f1</td>\n",
              "            <td>19e2e</td>\n",
              "            <td>19e2e</td>\n",
              "            <td>+38u2u/rfx</td>\n",
              "            <td>+38u2u/rfx</td>\n",
              "        </tr>\n",
              "        <tr>\n",
              "            <td>1</td>\n",
              "            <td>sms</td>\n",
              "            <td>0</td>\n",
              "            <td>2012-05-08 23:01:31.0</td>\n",
              "            <td>1</td>\n",
              "            <td>a0a597384c612d7</td>\n",
              "            <td>cf3b218f1dde792</td>\n",
              "            <td>19e2e</td>\n",
              "            <td>19e2e</td>\n",
              "            <td>+Fs4mTvdKx</td>\n",
              "            <td>+Fs4mTvdKx</td>\n",
              "        </tr>\n",
              "    </tbody>\n",
              "</table>"
            ]
          },
          "metadata": {},
          "execution_count": 125
        }
      ]
    },
    {
      "cell_type": "markdown",
      "source": [
        "#Cleaning the data"
      ],
      "metadata": {
        "id": "niKrmdr7cdEw"
      }
    },
    {
      "cell_type": "markdown",
      "source": [
        ">checking missing values"
      ],
      "metadata": {
        "id": "Hgpu8aoD5uUl"
      }
    },
    {
      "cell_type": "code",
      "source": [
        "df2.info()"
      ],
      "metadata": {
        "colab": {
          "base_uri": "https://localhost:8080/"
        },
        "id": "rgPTCw8gY5c7",
        "outputId": "29492675-007b-45d1-bd5f-fa51b37d1d6b"
      },
      "execution_count": null,
      "outputs": [
        {
          "output_type": "stream",
          "name": "stdout",
          "text": [
            "<class 'pandas.core.frame.DataFrame'>\n",
            "RangeIndex: 5001 entries, 0 to 5000\n",
            "Data columns (total 10 columns):\n",
            " #   Column        Non-Null Count  Dtype \n",
            "---  ------        --------------  ----- \n",
            " 0   PRODUCT       5001 non-null   object\n",
            " 1   VALUE         5001 non-null   int64 \n",
            " 2   DATE_TIME     5001 non-null   object\n",
            " 3   CELL_ON_SITE  5001 non-null   object\n",
            " 4   DW_A_NUMBER   5001 non-null   object\n",
            " 5   DW_B_NUMBER   5001 non-null   object\n",
            " 6   COUNTRY_A     5001 non-null   object\n",
            " 7   COUNTRY_B     5001 non-null   object\n",
            " 8   CELL_ID       5001 non-null   object\n",
            " 9   SITE_ID       4325 non-null   object\n",
            "dtypes: int64(1), object(9)\n",
            "memory usage: 390.8+ KB\n"
          ]
        }
      ]
    },
    {
      "cell_type": "code",
      "source": [
        "df2.count()"
      ],
      "metadata": {
        "colab": {
          "base_uri": "https://localhost:8080/"
        },
        "id": "AWu1ID8655Pv",
        "outputId": "e673107d-350d-4cb9-8a01-bd908020c3a6"
      },
      "execution_count": null,
      "outputs": [
        {
          "output_type": "execute_result",
          "data": {
            "text/plain": [
              "PRODUCT         5001\n",
              "VALUE           5001\n",
              "DATE_TIME       5001\n",
              "CELL_ON_SITE    5001\n",
              "DW_A_NUMBER     5001\n",
              "DW_B_NUMBER     5001\n",
              "COUNTRY_A       5001\n",
              "COUNTRY_B       5001\n",
              "CELL_ID         5001\n",
              "SITE_ID         4325\n",
              "dtype: int64"
            ]
          },
          "metadata": {},
          "execution_count": 50
        }
      ]
    },
    {
      "cell_type": "markdown",
      "source": [
        ">Dropping the missing values"
      ],
      "metadata": {
        "id": "8nu7eehaARXm"
      }
    },
    {
      "cell_type": "code",
      "source": [
        "df1 = df1.dropna()\n",
        "\n",
        "df2 = df2.dropna()\n",
        "\n",
        "df3 = df3.dropna()"
      ],
      "metadata": {
        "id": "HECpkV1A_om6"
      },
      "execution_count": null,
      "outputs": []
    },
    {
      "cell_type": "markdown",
      "source": [
        ">No missing values"
      ],
      "metadata": {
        "id": "iUulIFc3B33d"
      }
    },
    {
      "cell_type": "code",
      "source": [
        "print(df1.isnull().sum().sum())\n",
        "\n",
        "print(df2.isnull().sum().sum())\n",
        "\n",
        "print(df3.isnull().sum().sum())"
      ],
      "metadata": {
        "colab": {
          "base_uri": "https://localhost:8080/"
        },
        "id": "U5H70zFPBkIO",
        "outputId": "5003e556-29f4-40b3-86a7-6572381eadc6"
      },
      "execution_count": null,
      "outputs": [
        {
          "output_type": "stream",
          "name": "stdout",
          "text": [
            "0\n",
            "0\n",
            "0\n"
          ]
        }
      ]
    },
    {
      "cell_type": "markdown",
      "source": [
        ">Removing duplicates"
      ],
      "metadata": {
        "id": "9YvWWduN6YLJ"
      }
    },
    {
      "cell_type": "code",
      "source": [
        "df1 = df1.drop_duplicates()\n",
        "df2 = df2.drop_duplicates()\n",
        "df3 = df3.drop_duplicates()"
      ],
      "metadata": {
        "id": "FmmTeOVQ6vJQ"
      },
      "execution_count": null,
      "outputs": []
    },
    {
      "cell_type": "markdown",
      "source": [
        ">Fixing messy columns"
      ],
      "metadata": {
        "id": "Lf14TFie7D6B"
      }
    },
    {
      "cell_type": "code",
      "source": [
        "\n",
        "df1.columns = ['product', 'value', 'date_time', 'cell_on_site', 'dw_a_number_int',\n",
        "               'dw_b_number_int', 'country_a', 'country_b', 'cell_id', 'site_id']\n",
        "\n",
        "#df1.head(1)\n",
        "\n",
        "df2.columns = ['product','value', 'date_time', 'cell_on_site', 'dw_a_number_int',\n",
        "               'dw_b_number_int', 'country_a', 'country_b', 'cell_id', 'site_id']\n",
        "df2.head(1)\n",
        "\n",
        "\n",
        "df3.columns = ['product','value', 'date_time', 'cell_on_site', 'dw_a_number_int',\n",
        "               'dw_b_number_int', 'country_a', 'country_b', 'cell_id', 'site_id']\n",
        "#df3.head(1)"
      ],
      "metadata": {
        "id": "L6deCX5WEXbe"
      },
      "execution_count": null,
      "outputs": []
    },
    {
      "cell_type": "code",
      "source": [
        "df1.head(2)"
      ],
      "metadata": {
        "id": "uYEDEFiV3Arb",
        "outputId": "9fbdc9e7-e9eb-47f5-cbe1-3b41e898c8e4",
        "colab": {
          "base_uri": "https://localhost:8080/",
          "height": 112
        }
      },
      "execution_count": null,
      "outputs": [
        {
          "output_type": "execute_result",
          "data": {
            "text/plain": [
              "  product  value           date_time  dw_a_number_int  dw_b_number_int  \\\n",
              "0   Voice      0 2012-05-06 23:04:37  49fae048b547780  1a49f8b0ded9de6   \n",
              "1     sms      0 2012-05-06 23:05:25  7a54a6eaee19e65  93343ba6e41af95   \n",
              "\n",
              "      cell_id     site_id  \n",
              "0  /TJNe+Mmtu  /TJNe+Mmtu  \n",
              "1  /+cKZKIp41  /+cKZKIp41  "
            ],
            "text/html": [
              "\n",
              "  <div id=\"df-02ecd408-63da-4e96-9ce7-c115adfaf3cc\">\n",
              "    <div class=\"colab-df-container\">\n",
              "      <div>\n",
              "<style scoped>\n",
              "    .dataframe tbody tr th:only-of-type {\n",
              "        vertical-align: middle;\n",
              "    }\n",
              "\n",
              "    .dataframe tbody tr th {\n",
              "        vertical-align: top;\n",
              "    }\n",
              "\n",
              "    .dataframe thead th {\n",
              "        text-align: right;\n",
              "    }\n",
              "</style>\n",
              "<table border=\"1\" class=\"dataframe\">\n",
              "  <thead>\n",
              "    <tr style=\"text-align: right;\">\n",
              "      <th></th>\n",
              "      <th>product</th>\n",
              "      <th>value</th>\n",
              "      <th>date_time</th>\n",
              "      <th>dw_a_number_int</th>\n",
              "      <th>dw_b_number_int</th>\n",
              "      <th>cell_id</th>\n",
              "      <th>site_id</th>\n",
              "    </tr>\n",
              "  </thead>\n",
              "  <tbody>\n",
              "    <tr>\n",
              "      <th>0</th>\n",
              "      <td>Voice</td>\n",
              "      <td>0</td>\n",
              "      <td>2012-05-06 23:04:37</td>\n",
              "      <td>49fae048b547780</td>\n",
              "      <td>1a49f8b0ded9de6</td>\n",
              "      <td>/TJNe+Mmtu</td>\n",
              "      <td>/TJNe+Mmtu</td>\n",
              "    </tr>\n",
              "    <tr>\n",
              "      <th>1</th>\n",
              "      <td>sms</td>\n",
              "      <td>0</td>\n",
              "      <td>2012-05-06 23:05:25</td>\n",
              "      <td>7a54a6eaee19e65</td>\n",
              "      <td>93343ba6e41af95</td>\n",
              "      <td>/+cKZKIp41</td>\n",
              "      <td>/+cKZKIp41</td>\n",
              "    </tr>\n",
              "  </tbody>\n",
              "</table>\n",
              "</div>\n",
              "      <button class=\"colab-df-convert\" onclick=\"convertToInteractive('df-02ecd408-63da-4e96-9ce7-c115adfaf3cc')\"\n",
              "              title=\"Convert this dataframe to an interactive table.\"\n",
              "              style=\"display:none;\">\n",
              "        \n",
              "  <svg xmlns=\"http://www.w3.org/2000/svg\" height=\"24px\"viewBox=\"0 0 24 24\"\n",
              "       width=\"24px\">\n",
              "    <path d=\"M0 0h24v24H0V0z\" fill=\"none\"/>\n",
              "    <path d=\"M18.56 5.44l.94 2.06.94-2.06 2.06-.94-2.06-.94-.94-2.06-.94 2.06-2.06.94zm-11 1L8.5 8.5l.94-2.06 2.06-.94-2.06-.94L8.5 2.5l-.94 2.06-2.06.94zm10 10l.94 2.06.94-2.06 2.06-.94-2.06-.94-.94-2.06-.94 2.06-2.06.94z\"/><path d=\"M17.41 7.96l-1.37-1.37c-.4-.4-.92-.59-1.43-.59-.52 0-1.04.2-1.43.59L10.3 9.45l-7.72 7.72c-.78.78-.78 2.05 0 2.83L4 21.41c.39.39.9.59 1.41.59.51 0 1.02-.2 1.41-.59l7.78-7.78 2.81-2.81c.8-.78.8-2.07 0-2.86zM5.41 20L4 18.59l7.72-7.72 1.47 1.35L5.41 20z\"/>\n",
              "  </svg>\n",
              "      </button>\n",
              "      \n",
              "  <style>\n",
              "    .colab-df-container {\n",
              "      display:flex;\n",
              "      flex-wrap:wrap;\n",
              "      gap: 12px;\n",
              "    }\n",
              "\n",
              "    .colab-df-convert {\n",
              "      background-color: #E8F0FE;\n",
              "      border: none;\n",
              "      border-radius: 50%;\n",
              "      cursor: pointer;\n",
              "      display: none;\n",
              "      fill: #1967D2;\n",
              "      height: 32px;\n",
              "      padding: 0 0 0 0;\n",
              "      width: 32px;\n",
              "    }\n",
              "\n",
              "    .colab-df-convert:hover {\n",
              "      background-color: #E2EBFA;\n",
              "      box-shadow: 0px 1px 2px rgba(60, 64, 67, 0.3), 0px 1px 3px 1px rgba(60, 64, 67, 0.15);\n",
              "      fill: #174EA6;\n",
              "    }\n",
              "\n",
              "    [theme=dark] .colab-df-convert {\n",
              "      background-color: #3B4455;\n",
              "      fill: #D2E3FC;\n",
              "    }\n",
              "\n",
              "    [theme=dark] .colab-df-convert:hover {\n",
              "      background-color: #434B5C;\n",
              "      box-shadow: 0px 1px 3px 1px rgba(0, 0, 0, 0.15);\n",
              "      filter: drop-shadow(0px 1px 2px rgba(0, 0, 0, 0.3));\n",
              "      fill: #FFFFFF;\n",
              "    }\n",
              "  </style>\n",
              "\n",
              "      <script>\n",
              "        const buttonEl =\n",
              "          document.querySelector('#df-02ecd408-63da-4e96-9ce7-c115adfaf3cc button.colab-df-convert');\n",
              "        buttonEl.style.display =\n",
              "          google.colab.kernel.accessAllowed ? 'block' : 'none';\n",
              "\n",
              "        async function convertToInteractive(key) {\n",
              "          const element = document.querySelector('#df-02ecd408-63da-4e96-9ce7-c115adfaf3cc');\n",
              "          const dataTable =\n",
              "            await google.colab.kernel.invokeFunction('convertToInteractive',\n",
              "                                                     [key], {});\n",
              "          if (!dataTable) return;\n",
              "\n",
              "          const docLinkHtml = 'Like what you see? Visit the ' +\n",
              "            '<a target=\"_blank\" href=https://colab.research.google.com/notebooks/data_table.ipynb>data table notebook</a>'\n",
              "            + ' to learn more about interactive tables.';\n",
              "          element.innerHTML = '';\n",
              "          dataTable['output_type'] = 'display_data';\n",
              "          await google.colab.output.renderOutput(dataTable, element);\n",
              "          const docLink = document.createElement('div');\n",
              "          docLink.innerHTML = docLinkHtml;\n",
              "          element.appendChild(docLink);\n",
              "        }\n",
              "      </script>\n",
              "    </div>\n",
              "  </div>\n",
              "  "
            ]
          },
          "metadata": {},
          "execution_count": 124
        }
      ]
    },
    {
      "cell_type": "markdown",
      "source": [
        ">Removing the invalid data"
      ],
      "metadata": {
        "id": "0zbbFzUC6MvN"
      }
    },
    {
      "cell_type": "code",
      "source": [
        "df1.drop([\"cell_on_site\", \"country_a\",\t\"country_b\"], axis = 1, inplace = True) \n",
        "#df1.head()\n",
        "\n",
        "df2.drop([\"cell_on_site\", \"country_a\",\t\"country_b\"], axis = 1, inplace = True) \n",
        "#df2.head()\n",
        "\n",
        "df3.drop([\"cell_on_site\", \"country_a\",\t\"country_b\"], axis = 1, inplace = True) \n",
        "df3.head()"
      ],
      "metadata": {
        "colab": {
          "base_uri": "https://localhost:8080/",
          "height": 206
        },
        "id": "LfIRqKZs6XxS",
        "outputId": "6f9f988d-8b8c-4ad4-c9ad-6e0ab9f561cd"
      },
      "execution_count": null,
      "outputs": [
        {
          "output_type": "execute_result",
          "data": {
            "text/plain": [
              "  product  value              date_time  dw_a_number_int  dw_b_number_int  \\\n",
              "0   Voice     61  2012-05-08 23:01:28.0  966f68353622feb  ffd53a3bb2db6f1   \n",
              "1     sms      0  2012-05-08 23:01:31.0  a0a597384c612d7  cf3b218f1dde792   \n",
              "2   Voice     10  2012-05-08 23:02:59.0  5441a9a58c97132  52f8b299515b9b7   \n",
              "3     sms      0  2012-05-08 23:03:04.0  8ab8b9ed6989f61  e09e736e46c5c3d   \n",
              "4   Voice     22  2012-05-08 23:03:16.0  52662a62b199334  2186273faab4602   \n",
              "\n",
              "      cell_id     site_id  \n",
              "0  +38u2u/rfx  +38u2u/rfx  \n",
              "1  +Fs4mTvdKx  +Fs4mTvdKx  \n",
              "2  +ZaaZozy/+  +ZaaZozy/+  \n",
              "3  +cNeJzsTp3  +cNeJzsTp3  \n",
              "4  /eeMklgyJA  /eeMklgyJA  "
            ],
            "text/html": [
              "\n",
              "  <div id=\"df-69b03a18-141f-4314-bf48-8946d17b93fa\">\n",
              "    <div class=\"colab-df-container\">\n",
              "      <div>\n",
              "<style scoped>\n",
              "    .dataframe tbody tr th:only-of-type {\n",
              "        vertical-align: middle;\n",
              "    }\n",
              "\n",
              "    .dataframe tbody tr th {\n",
              "        vertical-align: top;\n",
              "    }\n",
              "\n",
              "    .dataframe thead th {\n",
              "        text-align: right;\n",
              "    }\n",
              "</style>\n",
              "<table border=\"1\" class=\"dataframe\">\n",
              "  <thead>\n",
              "    <tr style=\"text-align: right;\">\n",
              "      <th></th>\n",
              "      <th>product</th>\n",
              "      <th>value</th>\n",
              "      <th>date_time</th>\n",
              "      <th>dw_a_number_int</th>\n",
              "      <th>dw_b_number_int</th>\n",
              "      <th>cell_id</th>\n",
              "      <th>site_id</th>\n",
              "    </tr>\n",
              "  </thead>\n",
              "  <tbody>\n",
              "    <tr>\n",
              "      <th>0</th>\n",
              "      <td>Voice</td>\n",
              "      <td>61</td>\n",
              "      <td>2012-05-08 23:01:28.0</td>\n",
              "      <td>966f68353622feb</td>\n",
              "      <td>ffd53a3bb2db6f1</td>\n",
              "      <td>+38u2u/rfx</td>\n",
              "      <td>+38u2u/rfx</td>\n",
              "    </tr>\n",
              "    <tr>\n",
              "      <th>1</th>\n",
              "      <td>sms</td>\n",
              "      <td>0</td>\n",
              "      <td>2012-05-08 23:01:31.0</td>\n",
              "      <td>a0a597384c612d7</td>\n",
              "      <td>cf3b218f1dde792</td>\n",
              "      <td>+Fs4mTvdKx</td>\n",
              "      <td>+Fs4mTvdKx</td>\n",
              "    </tr>\n",
              "    <tr>\n",
              "      <th>2</th>\n",
              "      <td>Voice</td>\n",
              "      <td>10</td>\n",
              "      <td>2012-05-08 23:02:59.0</td>\n",
              "      <td>5441a9a58c97132</td>\n",
              "      <td>52f8b299515b9b7</td>\n",
              "      <td>+ZaaZozy/+</td>\n",
              "      <td>+ZaaZozy/+</td>\n",
              "    </tr>\n",
              "    <tr>\n",
              "      <th>3</th>\n",
              "      <td>sms</td>\n",
              "      <td>0</td>\n",
              "      <td>2012-05-08 23:03:04.0</td>\n",
              "      <td>8ab8b9ed6989f61</td>\n",
              "      <td>e09e736e46c5c3d</td>\n",
              "      <td>+cNeJzsTp3</td>\n",
              "      <td>+cNeJzsTp3</td>\n",
              "    </tr>\n",
              "    <tr>\n",
              "      <th>4</th>\n",
              "      <td>Voice</td>\n",
              "      <td>22</td>\n",
              "      <td>2012-05-08 23:03:16.0</td>\n",
              "      <td>52662a62b199334</td>\n",
              "      <td>2186273faab4602</td>\n",
              "      <td>/eeMklgyJA</td>\n",
              "      <td>/eeMklgyJA</td>\n",
              "    </tr>\n",
              "  </tbody>\n",
              "</table>\n",
              "</div>\n",
              "      <button class=\"colab-df-convert\" onclick=\"convertToInteractive('df-69b03a18-141f-4314-bf48-8946d17b93fa')\"\n",
              "              title=\"Convert this dataframe to an interactive table.\"\n",
              "              style=\"display:none;\">\n",
              "        \n",
              "  <svg xmlns=\"http://www.w3.org/2000/svg\" height=\"24px\"viewBox=\"0 0 24 24\"\n",
              "       width=\"24px\">\n",
              "    <path d=\"M0 0h24v24H0V0z\" fill=\"none\"/>\n",
              "    <path d=\"M18.56 5.44l.94 2.06.94-2.06 2.06-.94-2.06-.94-.94-2.06-.94 2.06-2.06.94zm-11 1L8.5 8.5l.94-2.06 2.06-.94-2.06-.94L8.5 2.5l-.94 2.06-2.06.94zm10 10l.94 2.06.94-2.06 2.06-.94-2.06-.94-.94-2.06-.94 2.06-2.06.94z\"/><path d=\"M17.41 7.96l-1.37-1.37c-.4-.4-.92-.59-1.43-.59-.52 0-1.04.2-1.43.59L10.3 9.45l-7.72 7.72c-.78.78-.78 2.05 0 2.83L4 21.41c.39.39.9.59 1.41.59.51 0 1.02-.2 1.41-.59l7.78-7.78 2.81-2.81c.8-.78.8-2.07 0-2.86zM5.41 20L4 18.59l7.72-7.72 1.47 1.35L5.41 20z\"/>\n",
              "  </svg>\n",
              "      </button>\n",
              "      \n",
              "  <style>\n",
              "    .colab-df-container {\n",
              "      display:flex;\n",
              "      flex-wrap:wrap;\n",
              "      gap: 12px;\n",
              "    }\n",
              "\n",
              "    .colab-df-convert {\n",
              "      background-color: #E8F0FE;\n",
              "      border: none;\n",
              "      border-radius: 50%;\n",
              "      cursor: pointer;\n",
              "      display: none;\n",
              "      fill: #1967D2;\n",
              "      height: 32px;\n",
              "      padding: 0 0 0 0;\n",
              "      width: 32px;\n",
              "    }\n",
              "\n",
              "    .colab-df-convert:hover {\n",
              "      background-color: #E2EBFA;\n",
              "      box-shadow: 0px 1px 2px rgba(60, 64, 67, 0.3), 0px 1px 3px 1px rgba(60, 64, 67, 0.15);\n",
              "      fill: #174EA6;\n",
              "    }\n",
              "\n",
              "    [theme=dark] .colab-df-convert {\n",
              "      background-color: #3B4455;\n",
              "      fill: #D2E3FC;\n",
              "    }\n",
              "\n",
              "    [theme=dark] .colab-df-convert:hover {\n",
              "      background-color: #434B5C;\n",
              "      box-shadow: 0px 1px 3px 1px rgba(0, 0, 0, 0.15);\n",
              "      filter: drop-shadow(0px 1px 2px rgba(0, 0, 0, 0.3));\n",
              "      fill: #FFFFFF;\n",
              "    }\n",
              "  </style>\n",
              "\n",
              "      <script>\n",
              "        const buttonEl =\n",
              "          document.querySelector('#df-69b03a18-141f-4314-bf48-8946d17b93fa button.colab-df-convert');\n",
              "        buttonEl.style.display =\n",
              "          google.colab.kernel.accessAllowed ? 'block' : 'none';\n",
              "\n",
              "        async function convertToInteractive(key) {\n",
              "          const element = document.querySelector('#df-69b03a18-141f-4314-bf48-8946d17b93fa');\n",
              "          const dataTable =\n",
              "            await google.colab.kernel.invokeFunction('convertToInteractive',\n",
              "                                                     [key], {});\n",
              "          if (!dataTable) return;\n",
              "\n",
              "          const docLinkHtml = 'Like what you see? Visit the ' +\n",
              "            '<a target=\"_blank\" href=https://colab.research.google.com/notebooks/data_table.ipynb>data table notebook</a>'\n",
              "            + ' to learn more about interactive tables.';\n",
              "          element.innerHTML = '';\n",
              "          dataTable['output_type'] = 'display_data';\n",
              "          await google.colab.output.renderOutput(dataTable, element);\n",
              "          const docLink = document.createElement('div');\n",
              "          docLink.innerHTML = docLinkHtml;\n",
              "          element.appendChild(docLink);\n",
              "        }\n",
              "      </script>\n",
              "    </div>\n",
              "  </div>\n",
              "  "
            ]
          },
          "metadata": {},
          "execution_count": 56
        }
      ]
    },
    {
      "cell_type": "markdown",
      "source": [
        ">Date type conversion"
      ],
      "metadata": {
        "id": "SXqnedHK7INo"
      }
    },
    {
      "cell_type": "code",
      "source": [
        "df1['date_time'] = pd.to_datetime(df1['date_time']) \n",
        "\n",
        "df2['date_time'] = pd.to_datetime(df2['date_time']) \n",
        "\n",
        "df3['date_time'] = pd.to_datetime(df3['date_time']) \n",
        "df3.info()"
      ],
      "metadata": {
        "colab": {
          "base_uri": "https://localhost:8080/"
        },
        "id": "JSReTmvG7Oph",
        "outputId": "bff9e7c1-2692-46b8-8ee1-a9ca8285dfb5"
      },
      "execution_count": null,
      "outputs": [
        {
          "output_type": "stream",
          "name": "stdout",
          "text": [
            "<class 'pandas.core.frame.DataFrame'>\n",
            "Int64Index: 4311 entries, 0 to 5000\n",
            "Data columns (total 7 columns):\n",
            " #   Column           Non-Null Count  Dtype         \n",
            "---  ------           --------------  -----         \n",
            " 0   product          4311 non-null   object        \n",
            " 1   value            4311 non-null   int64         \n",
            " 2   date_time        4311 non-null   datetime64[ns]\n",
            " 3   dw_a_number_int  4311 non-null   object        \n",
            " 4   dw_b_number_int  4311 non-null   object        \n",
            " 5   cell_id          4311 non-null   object        \n",
            " 6   site_id          4311 non-null   object        \n",
            "dtypes: datetime64[ns](1), int64(1), object(5)\n",
            "memory usage: 269.4+ KB\n"
          ]
        }
      ]
    },
    {
      "cell_type": "markdown",
      "source": [
        "#importing cells geo csv"
      ],
      "metadata": {
        "id": "5kC_Pec97PN5"
      }
    },
    {
      "cell_type": "code",
      "source": [
        "with open('cells_geo.csv','r') as f:\n",
        "    df4 = pd.read_csv(f, index_col=0, encoding='utf-8' ) "
      ],
      "metadata": {
        "id": "5G30TV25ZBk3"
      },
      "execution_count": null,
      "outputs": []
    },
    {
      "cell_type": "code",
      "source": [
        "%sql DROP TABLE if EXISTS df4;\n",
        "%sql PERSIST df4;"
      ],
      "metadata": {
        "colab": {
          "base_uri": "https://localhost:8080/",
          "height": 87
        },
        "id": "Jl3cznxta6tY",
        "outputId": "bbc7e3dc-031b-4084-f8de-6966828e27b2"
      },
      "execution_count": null,
      "outputs": [
        {
          "output_type": "stream",
          "name": "stdout",
          "text": [
            " * sqlite://\n",
            "Done.\n",
            " * sqlite://\n"
          ]
        },
        {
          "output_type": "execute_result",
          "data": {
            "text/plain": [
              "'Persisted df4'"
            ],
            "application/vnd.google.colaboratory.intrinsic+json": {
              "type": "string"
            }
          },
          "metadata": {},
          "execution_count": 59
        }
      ]
    },
    {
      "cell_type": "code",
      "source": [
        "%%sql\n",
        "SELECT * FROM df4 LIMIT 5;"
      ],
      "metadata": {
        "colab": {
          "base_uri": "https://localhost:8080/",
          "height": 289
        },
        "id": "w5fzs6lGOjh0",
        "outputId": "f06d0944-2666-4eb8-da04-5048f3024425"
      },
      "execution_count": null,
      "outputs": [
        {
          "output_type": "stream",
          "name": "stdout",
          "text": [
            " * sqlite://\n",
            "Done.\n"
          ]
        },
        {
          "output_type": "execute_result",
          "data": {
            "text/plain": [
              "[(0, 'ADJAME', 'In Service', 'ABIDJAN', '\"Abidjan_EST', 'AGBANNEW', -4.000666667, 5.368194444, 'LAGUNE', None, 'fbb2e75af3', '0bb492ef17'),\n",
              " (1, 'ADJAME', 'In Service', 'ABIDJAN', '\"Abidjan_EST', 'AGBANNEW', -4.000666667, 5.368194444, 'LAGUNE', None, '1502501d78', '0bb492ef17'),\n",
              " (2, 'ADJAME', 'In Service', 'ABIDJAN', '\"Abidjan_EST', 'AGBANNEW', -4.000666667, 5.368194444, 'LAGUNE', None, '0c2e182a0c', '0bb492ef17'),\n",
              " (3, 'ASSINIE', 'In Service', 'INTERIEUR', 'Grand-EST', 'ASSINIE\"', -3.488466667, 5.158761111, 'SUD COMOE', None, '69bdfc69fd', '8a1e6ce31f'),\n",
              " (4, 'ASSINIE', 'In Service', 'INTERIEUR', 'Grand-EST', 'ASSINIE\"', -3.488466667, 5.158761111, 'SUD COMOE', None, '7a1029d2ab', '8a1e6ce31f')]"
            ],
            "text/html": [
              "<table>\n",
              "    <thead>\n",
              "        <tr>\n",
              "            <th>index</th>\n",
              "            <th>VILLES</th>\n",
              "            <th>STATUS</th>\n",
              "            <th>LOCALISATION</th>\n",
              "            <th>DECOUPZONE</th>\n",
              "            <th>ZONENAME</th>\n",
              "            <th>LONGITUDE</th>\n",
              "            <th>LATITUDE</th>\n",
              "            <th>REGION</th>\n",
              "            <th>AREA</th>\n",
              "            <th>CELL_ID</th>\n",
              "            <th>SITE_CODE</th>\n",
              "        </tr>\n",
              "    </thead>\n",
              "    <tbody>\n",
              "        <tr>\n",
              "            <td>0</td>\n",
              "            <td>ADJAME</td>\n",
              "            <td>In Service</td>\n",
              "            <td>ABIDJAN</td>\n",
              "            <td>&quot;Abidjan_EST</td>\n",
              "            <td>AGBANNEW</td>\n",
              "            <td>-4.000666667</td>\n",
              "            <td>5.368194444</td>\n",
              "            <td>LAGUNE</td>\n",
              "            <td>None</td>\n",
              "            <td>fbb2e75af3</td>\n",
              "            <td>0bb492ef17</td>\n",
              "        </tr>\n",
              "        <tr>\n",
              "            <td>1</td>\n",
              "            <td>ADJAME</td>\n",
              "            <td>In Service</td>\n",
              "            <td>ABIDJAN</td>\n",
              "            <td>&quot;Abidjan_EST</td>\n",
              "            <td>AGBANNEW</td>\n",
              "            <td>-4.000666667</td>\n",
              "            <td>5.368194444</td>\n",
              "            <td>LAGUNE</td>\n",
              "            <td>None</td>\n",
              "            <td>1502501d78</td>\n",
              "            <td>0bb492ef17</td>\n",
              "        </tr>\n",
              "        <tr>\n",
              "            <td>2</td>\n",
              "            <td>ADJAME</td>\n",
              "            <td>In Service</td>\n",
              "            <td>ABIDJAN</td>\n",
              "            <td>&quot;Abidjan_EST</td>\n",
              "            <td>AGBANNEW</td>\n",
              "            <td>-4.000666667</td>\n",
              "            <td>5.368194444</td>\n",
              "            <td>LAGUNE</td>\n",
              "            <td>None</td>\n",
              "            <td>0c2e182a0c</td>\n",
              "            <td>0bb492ef17</td>\n",
              "        </tr>\n",
              "        <tr>\n",
              "            <td>3</td>\n",
              "            <td>ASSINIE</td>\n",
              "            <td>In Service</td>\n",
              "            <td>INTERIEUR</td>\n",
              "            <td>Grand-EST</td>\n",
              "            <td>ASSINIE&quot;</td>\n",
              "            <td>-3.488466667</td>\n",
              "            <td>5.158761111</td>\n",
              "            <td>SUD COMOE</td>\n",
              "            <td>None</td>\n",
              "            <td>69bdfc69fd</td>\n",
              "            <td>8a1e6ce31f</td>\n",
              "        </tr>\n",
              "        <tr>\n",
              "            <td>4</td>\n",
              "            <td>ASSINIE</td>\n",
              "            <td>In Service</td>\n",
              "            <td>INTERIEUR</td>\n",
              "            <td>Grand-EST</td>\n",
              "            <td>ASSINIE&quot;</td>\n",
              "            <td>-3.488466667</td>\n",
              "            <td>5.158761111</td>\n",
              "            <td>SUD COMOE</td>\n",
              "            <td>None</td>\n",
              "            <td>7a1029d2ab</td>\n",
              "            <td>8a1e6ce31f</td>\n",
              "        </tr>\n",
              "    </tbody>\n",
              "</table>"
            ]
          },
          "metadata": {},
          "execution_count": 60
        }
      ]
    },
    {
      "cell_type": "code",
      "source": [
        "df4.info()"
      ],
      "metadata": {
        "colab": {
          "base_uri": "https://localhost:8080/"
        },
        "id": "xL5oU3PIPMMD",
        "outputId": "bd346d87-e6c2-41a4-8bf6-ead8a3a6feac"
      },
      "execution_count": null,
      "outputs": [
        {
          "output_type": "stream",
          "name": "stdout",
          "text": [
            "<class 'pandas.core.frame.DataFrame'>\n",
            "Int64Index: 3974 entries, 0 to 3973\n",
            "Data columns (total 11 columns):\n",
            " #   Column        Non-Null Count  Dtype  \n",
            "---  ------        --------------  -----  \n",
            " 0   VILLES        3974 non-null   object \n",
            " 1   STATUS        3907 non-null   object \n",
            " 2   LOCALISATION  3974 non-null   object \n",
            " 3   DECOUPZONE    3974 non-null   object \n",
            " 4   ZONENAME      3968 non-null   object \n",
            " 5   LONGITUDE     3974 non-null   float64\n",
            " 6   LATITUDE      3974 non-null   float64\n",
            " 7   REGION        3974 non-null   object \n",
            " 8   AREA          3951 non-null   object \n",
            " 9   CELL_ID       3974 non-null   object \n",
            " 10  SITE_CODE     3974 non-null   object \n",
            "dtypes: float64(2), object(9)\n",
            "memory usage: 372.6+ KB\n"
          ]
        }
      ]
    },
    {
      "cell_type": "code",
      "source": [
        "df4.columns = ['city', 'status', 'localisation', \n",
        "               'geography_zone', 'zone_name', 'longitude', 'latitude',\n",
        "               'region', 'area', 'cell_id', 'site_code']\n",
        "df4.head(2)"
      ],
      "metadata": {
        "colab": {
          "base_uri": "https://localhost:8080/",
          "height": 211
        },
        "id": "HXEu0fhgxqJV",
        "outputId": "f12475de-5464-40fe-8e74-b877ffff90f9"
      },
      "execution_count": null,
      "outputs": [
        {
          "output_type": "execute_result",
          "data": {
            "text/plain": [
              "     city      status localisation geography_zone zone_name  longitude  \\\n",
              "0  ADJAME  In Service      ABIDJAN   \"Abidjan_EST  AGBANNEW  -4.000667   \n",
              "1  ADJAME  In Service      ABIDJAN   \"Abidjan_EST  AGBANNEW  -4.000667   \n",
              "\n",
              "   latitude  region area     cell_id   site_code  \n",
              "0  5.368194  LAGUNE  NaN  fbb2e75af3  0bb492ef17  \n",
              "1  5.368194  LAGUNE  NaN  1502501d78  0bb492ef17  "
            ],
            "text/html": [
              "\n",
              "  <div id=\"df-e167ab94-abbf-4f80-b47f-66263b1b189b\">\n",
              "    <div class=\"colab-df-container\">\n",
              "      <div>\n",
              "<style scoped>\n",
              "    .dataframe tbody tr th:only-of-type {\n",
              "        vertical-align: middle;\n",
              "    }\n",
              "\n",
              "    .dataframe tbody tr th {\n",
              "        vertical-align: top;\n",
              "    }\n",
              "\n",
              "    .dataframe thead th {\n",
              "        text-align: right;\n",
              "    }\n",
              "</style>\n",
              "<table border=\"1\" class=\"dataframe\">\n",
              "  <thead>\n",
              "    <tr style=\"text-align: right;\">\n",
              "      <th></th>\n",
              "      <th>city</th>\n",
              "      <th>status</th>\n",
              "      <th>localisation</th>\n",
              "      <th>geography_zone</th>\n",
              "      <th>zone_name</th>\n",
              "      <th>longitude</th>\n",
              "      <th>latitude</th>\n",
              "      <th>region</th>\n",
              "      <th>area</th>\n",
              "      <th>cell_id</th>\n",
              "      <th>site_code</th>\n",
              "    </tr>\n",
              "  </thead>\n",
              "  <tbody>\n",
              "    <tr>\n",
              "      <th>0</th>\n",
              "      <td>ADJAME</td>\n",
              "      <td>In Service</td>\n",
              "      <td>ABIDJAN</td>\n",
              "      <td>\"Abidjan_EST</td>\n",
              "      <td>AGBANNEW</td>\n",
              "      <td>-4.000667</td>\n",
              "      <td>5.368194</td>\n",
              "      <td>LAGUNE</td>\n",
              "      <td>NaN</td>\n",
              "      <td>fbb2e75af3</td>\n",
              "      <td>0bb492ef17</td>\n",
              "    </tr>\n",
              "    <tr>\n",
              "      <th>1</th>\n",
              "      <td>ADJAME</td>\n",
              "      <td>In Service</td>\n",
              "      <td>ABIDJAN</td>\n",
              "      <td>\"Abidjan_EST</td>\n",
              "      <td>AGBANNEW</td>\n",
              "      <td>-4.000667</td>\n",
              "      <td>5.368194</td>\n",
              "      <td>LAGUNE</td>\n",
              "      <td>NaN</td>\n",
              "      <td>1502501d78</td>\n",
              "      <td>0bb492ef17</td>\n",
              "    </tr>\n",
              "  </tbody>\n",
              "</table>\n",
              "</div>\n",
              "      <button class=\"colab-df-convert\" onclick=\"convertToInteractive('df-e167ab94-abbf-4f80-b47f-66263b1b189b')\"\n",
              "              title=\"Convert this dataframe to an interactive table.\"\n",
              "              style=\"display:none;\">\n",
              "        \n",
              "  <svg xmlns=\"http://www.w3.org/2000/svg\" height=\"24px\"viewBox=\"0 0 24 24\"\n",
              "       width=\"24px\">\n",
              "    <path d=\"M0 0h24v24H0V0z\" fill=\"none\"/>\n",
              "    <path d=\"M18.56 5.44l.94 2.06.94-2.06 2.06-.94-2.06-.94-.94-2.06-.94 2.06-2.06.94zm-11 1L8.5 8.5l.94-2.06 2.06-.94-2.06-.94L8.5 2.5l-.94 2.06-2.06.94zm10 10l.94 2.06.94-2.06 2.06-.94-2.06-.94-.94-2.06-.94 2.06-2.06.94z\"/><path d=\"M17.41 7.96l-1.37-1.37c-.4-.4-.92-.59-1.43-.59-.52 0-1.04.2-1.43.59L10.3 9.45l-7.72 7.72c-.78.78-.78 2.05 0 2.83L4 21.41c.39.39.9.59 1.41.59.51 0 1.02-.2 1.41-.59l7.78-7.78 2.81-2.81c.8-.78.8-2.07 0-2.86zM5.41 20L4 18.59l7.72-7.72 1.47 1.35L5.41 20z\"/>\n",
              "  </svg>\n",
              "      </button>\n",
              "      \n",
              "  <style>\n",
              "    .colab-df-container {\n",
              "      display:flex;\n",
              "      flex-wrap:wrap;\n",
              "      gap: 12px;\n",
              "    }\n",
              "\n",
              "    .colab-df-convert {\n",
              "      background-color: #E8F0FE;\n",
              "      border: none;\n",
              "      border-radius: 50%;\n",
              "      cursor: pointer;\n",
              "      display: none;\n",
              "      fill: #1967D2;\n",
              "      height: 32px;\n",
              "      padding: 0 0 0 0;\n",
              "      width: 32px;\n",
              "    }\n",
              "\n",
              "    .colab-df-convert:hover {\n",
              "      background-color: #E2EBFA;\n",
              "      box-shadow: 0px 1px 2px rgba(60, 64, 67, 0.3), 0px 1px 3px 1px rgba(60, 64, 67, 0.15);\n",
              "      fill: #174EA6;\n",
              "    }\n",
              "\n",
              "    [theme=dark] .colab-df-convert {\n",
              "      background-color: #3B4455;\n",
              "      fill: #D2E3FC;\n",
              "    }\n",
              "\n",
              "    [theme=dark] .colab-df-convert:hover {\n",
              "      background-color: #434B5C;\n",
              "      box-shadow: 0px 1px 3px 1px rgba(0, 0, 0, 0.15);\n",
              "      filter: drop-shadow(0px 1px 2px rgba(0, 0, 0, 0.3));\n",
              "      fill: #FFFFFF;\n",
              "    }\n",
              "  </style>\n",
              "\n",
              "      <script>\n",
              "        const buttonEl =\n",
              "          document.querySelector('#df-e167ab94-abbf-4f80-b47f-66263b1b189b button.colab-df-convert');\n",
              "        buttonEl.style.display =\n",
              "          google.colab.kernel.accessAllowed ? 'block' : 'none';\n",
              "\n",
              "        async function convertToInteractive(key) {\n",
              "          const element = document.querySelector('#df-e167ab94-abbf-4f80-b47f-66263b1b189b');\n",
              "          const dataTable =\n",
              "            await google.colab.kernel.invokeFunction('convertToInteractive',\n",
              "                                                     [key], {});\n",
              "          if (!dataTable) return;\n",
              "\n",
              "          const docLinkHtml = 'Like what you see? Visit the ' +\n",
              "            '<a target=\"_blank\" href=https://colab.research.google.com/notebooks/data_table.ipynb>data table notebook</a>'\n",
              "            + ' to learn more about interactive tables.';\n",
              "          element.innerHTML = '';\n",
              "          dataTable['output_type'] = 'display_data';\n",
              "          await google.colab.output.renderOutput(dataTable, element);\n",
              "          const docLink = document.createElement('div');\n",
              "          docLink.innerHTML = docLinkHtml;\n",
              "          element.appendChild(docLink);\n",
              "        }\n",
              "      </script>\n",
              "    </div>\n",
              "  </div>\n",
              "  "
            ]
          },
          "metadata": {},
          "execution_count": 62
        }
      ]
    },
    {
      "cell_type": "markdown",
      "source": [
        "#Data Aggregation\n",
        "\n",
        "> Aggregate values of the value(billing price) column\n",
        "\n"
      ],
      "metadata": {
        "id": "GwtrlfGW4wC2"
      }
    },
    {
      "cell_type": "markdown",
      "source": [
        ">Average price for 6, 7 and 8 may 2012 respectively"
      ],
      "metadata": {
        "id": "_-HzoMdIXepj"
      }
    },
    {
      "cell_type": "code",
      "source": [
        "df1['value'].mean()\n"
      ],
      "metadata": {
        "id": "m-DMIiXzRrhh",
        "colab": {
          "base_uri": "https://localhost:8080/"
        },
        "outputId": "e7fc4783-5517-44a9-e4e9-f206d9b94b7f"
      },
      "execution_count": null,
      "outputs": [
        {
          "output_type": "execute_result",
          "data": {
            "text/plain": [
              "28.33831553973903"
            ]
          },
          "metadata": {},
          "execution_count": 63
        }
      ]
    },
    {
      "cell_type": "code",
      "source": [
        "df2['value'].mean()"
      ],
      "metadata": {
        "colab": {
          "base_uri": "https://localhost:8080/"
        },
        "id": "58Sy-kctrmu9",
        "outputId": "a0b0daeb-02f6-41b3-908b-1fe94dd12b27"
      },
      "execution_count": null,
      "outputs": [
        {
          "output_type": "execute_result",
          "data": {
            "text/plain": [
              "27.114238798967865"
            ]
          },
          "metadata": {},
          "execution_count": 64
        }
      ]
    },
    {
      "cell_type": "code",
      "source": [
        "df3['value'].mean()"
      ],
      "metadata": {
        "colab": {
          "base_uri": "https://localhost:8080/"
        },
        "id": "T384wDp4rnAu",
        "outputId": "eebac8d8-287b-4ec1-8f34-2d517f8c2e07"
      },
      "execution_count": null,
      "outputs": [
        {
          "output_type": "execute_result",
          "data": {
            "text/plain": [
              "26.249130132219904"
            ]
          },
          "metadata": {},
          "execution_count": 65
        }
      ]
    },
    {
      "cell_type": "markdown",
      "source": [
        ">Minimum price for 6, 7 and 8 may 2012 respectively"
      ],
      "metadata": {
        "id": "QKmVKtlOX0Zy"
      }
    },
    {
      "cell_type": "code",
      "source": [
        "df1['value'].min()\n"
      ],
      "metadata": {
        "colab": {
          "base_uri": "https://localhost:8080/"
        },
        "id": "0hdrf9bwTZZp",
        "outputId": "b7aadfb2-c344-4f8b-962c-f802e0f15143"
      },
      "execution_count": null,
      "outputs": [
        {
          "output_type": "execute_result",
          "data": {
            "text/plain": [
              "0"
            ]
          },
          "metadata": {},
          "execution_count": 66
        }
      ]
    },
    {
      "cell_type": "code",
      "source": [
        "df2['value'].min()"
      ],
      "metadata": {
        "colab": {
          "base_uri": "https://localhost:8080/"
        },
        "id": "SyAkki_hyu8s",
        "outputId": "2f45cf8e-9307-48e7-db54-7e8a44ae4cb5"
      },
      "execution_count": null,
      "outputs": [
        {
          "output_type": "execute_result",
          "data": {
            "text/plain": [
              "0"
            ]
          },
          "metadata": {},
          "execution_count": 67
        }
      ]
    },
    {
      "cell_type": "code",
      "source": [
        "df3['value'].min()"
      ],
      "metadata": {
        "colab": {
          "base_uri": "https://localhost:8080/"
        },
        "id": "U9MPCwFSyvF6",
        "outputId": "aa8cf7b3-f6af-4897-aee1-365c0896bc16"
      },
      "execution_count": null,
      "outputs": [
        {
          "output_type": "execute_result",
          "data": {
            "text/plain": [
              "0"
            ]
          },
          "metadata": {},
          "execution_count": 68
        }
      ]
    },
    {
      "cell_type": "markdown",
      "source": [
        ">Maximum price for 6, 7 and 8 may 2012 respectively"
      ],
      "metadata": {
        "id": "5nq8ujtkX6ll"
      }
    },
    {
      "cell_type": "code",
      "source": [
        "df1['value'].max()"
      ],
      "metadata": {
        "colab": {
          "base_uri": "https://localhost:8080/"
        },
        "id": "6iRFDaluTqTw",
        "outputId": "06318057-c629-4c02-e843-9285062e689c"
      },
      "execution_count": null,
      "outputs": [
        {
          "output_type": "execute_result",
          "data": {
            "text/plain": [
              "1860"
            ]
          },
          "metadata": {},
          "execution_count": 69
        }
      ]
    },
    {
      "cell_type": "code",
      "source": [
        "df2['value'].max()"
      ],
      "metadata": {
        "colab": {
          "base_uri": "https://localhost:8080/"
        },
        "id": "4eN3Urvly58U",
        "outputId": "b256bc56-5e7f-46b7-f737-1c38aacdcce7"
      },
      "execution_count": null,
      "outputs": [
        {
          "output_type": "execute_result",
          "data": {
            "text/plain": [
              "3380"
            ]
          },
          "metadata": {},
          "execution_count": 70
        }
      ]
    },
    {
      "cell_type": "code",
      "source": [
        "df3['value'].max()"
      ],
      "metadata": {
        "colab": {
          "base_uri": "https://localhost:8080/"
        },
        "id": "Ep5Yo_jJy6BS",
        "outputId": "48f340b6-a9bd-4360-f6c7-34b461481e8a"
      },
      "execution_count": null,
      "outputs": [
        {
          "output_type": "execute_result",
          "data": {
            "text/plain": [
              "6750"
            ]
          },
          "metadata": {},
          "execution_count": 71
        }
      ]
    },
    {
      "cell_type": "markdown",
      "source": [
        ">Standard deviation of the billing price for 6, 7 and 8 may 2012 respectively"
      ],
      "metadata": {
        "id": "ym1TfEdLYC3i"
      }
    },
    {
      "cell_type": "code",
      "source": [
        "df1['value'].std()"
      ],
      "metadata": {
        "colab": {
          "base_uri": "https://localhost:8080/"
        },
        "id": "Kz6VYh80Ub_4",
        "outputId": "8a9b8955-61c7-450c-898a-4f28f01488b7"
      },
      "execution_count": null,
      "outputs": [
        {
          "output_type": "execute_result",
          "data": {
            "text/plain": [
              "82.94595360973247"
            ]
          },
          "metadata": {},
          "execution_count": 72
        }
      ]
    },
    {
      "cell_type": "code",
      "source": [
        "df2['value'].std()"
      ],
      "metadata": {
        "colab": {
          "base_uri": "https://localhost:8080/"
        },
        "id": "Bs1ZKATszI3T",
        "outputId": "487a23a3-0ba5-4be0-814d-e74e2e6ea636"
      },
      "execution_count": null,
      "outputs": [
        {
          "output_type": "execute_result",
          "data": {
            "text/plain": [
              "102.82703532731918"
            ]
          },
          "metadata": {},
          "execution_count": 73
        }
      ]
    },
    {
      "cell_type": "code",
      "source": [
        "df3['value'].std()"
      ],
      "metadata": {
        "colab": {
          "base_uri": "https://localhost:8080/"
        },
        "id": "YZT95Tl8zI_5",
        "outputId": "11e982d0-f691-45e7-de57-667cb83b4bd0"
      },
      "execution_count": null,
      "outputs": [
        {
          "output_type": "execute_result",
          "data": {
            "text/plain": [
              "139.04298725548014"
            ]
          },
          "metadata": {},
          "execution_count": 74
        }
      ]
    },
    {
      "cell_type": "markdown",
      "source": [
        ">Variance of the price for 6, 7 and 8 may 2012 respectively"
      ],
      "metadata": {
        "id": "LmdfaIxwYOaT"
      }
    },
    {
      "cell_type": "code",
      "source": [
        "df1['value'].var()"
      ],
      "metadata": {
        "colab": {
          "base_uri": "https://localhost:8080/"
        },
        "id": "XbLNP1jFUiL-",
        "outputId": "6a8749d5-3234-4148-f67a-c9f78c2e88da"
      },
      "execution_count": null,
      "outputs": [
        {
          "output_type": "execute_result",
          "data": {
            "text/plain": [
              "6880.03122022789"
            ]
          },
          "metadata": {},
          "execution_count": 75
        }
      ]
    },
    {
      "cell_type": "code",
      "source": [
        "df2['value'].var()"
      ],
      "metadata": {
        "colab": {
          "base_uri": "https://localhost:8080/"
        },
        "id": "W2R4sCmDzUxh",
        "outputId": "3c617a13-0ba8-4813-dd68-333bdff711ed"
      },
      "execution_count": null,
      "outputs": [
        {
          "output_type": "execute_result",
          "data": {
            "text/plain": [
              "10573.399194205747"
            ]
          },
          "metadata": {},
          "execution_count": 76
        }
      ]
    },
    {
      "cell_type": "code",
      "source": [
        "df3['value'].var()"
      ],
      "metadata": {
        "colab": {
          "base_uri": "https://localhost:8080/"
        },
        "id": "JMW5suFuzU1d",
        "outputId": "0380ee20-cb03-4614-f3fe-08f46ae8f78b"
      },
      "execution_count": null,
      "outputs": [
        {
          "output_type": "execute_result",
          "data": {
            "text/plain": [
              "19332.95230492761"
            ]
          },
          "metadata": {},
          "execution_count": 77
        }
      ]
    },
    {
      "cell_type": "markdown",
      "source": [
        "#Statistical analysis with SQL"
      ],
      "metadata": {
        "id": "VEDjZPU5YpwR"
      }
    },
    {
      "cell_type": "markdown",
      "source": [
        ">Regions with the most and least service status"
      ],
      "metadata": {
        "id": "P_j9JKEWU8lF"
      }
    },
    {
      "cell_type": "code",
      "source": [
        "%%sql\n",
        "SELECT city, geography_zone, zone_name, region\n",
        "FROM df4\n",
        "WHERE status = 'in service'\n",
        "GROUP BY status DESC; "
      ],
      "metadata": {
        "colab": {
          "base_uri": "https://localhost:8080/"
        },
        "id": "lIEopzzFZpdj",
        "outputId": "aff969b6-9590-44be-976d-c792227668b9"
      },
      "execution_count": null,
      "outputs": [
        {
          "output_type": "stream",
          "name": "stdout",
          "text": [
            " * sqlite://\n",
            "(sqlite3.OperationalError) near \"DESC\": syntax error\n",
            "[SQL: SELECT city, geography_zone, zone_name, region\n",
            "FROM df4\n",
            "WHERE status = 'in service'\n",
            "GROUP BY status DESC;]\n",
            "(Background on this error at: https://sqlalche.me/e/14/e3q8)\n"
          ]
        }
      ]
    },
    {
      "cell_type": "code",
      "source": [
        "%%sql\n",
        "SELECT city, geography_zone, zone_name, region\n",
        "FROM df4\n",
        "WHERE status =! 'in service'\n",
        "GROUP BY status DESC; "
      ],
      "metadata": {
        "colab": {
          "base_uri": "https://localhost:8080/"
        },
        "id": "YlAOjVnxpd04",
        "outputId": "11ca8885-b1ac-45e1-ab99-28c3ec18974c"
      },
      "execution_count": null,
      "outputs": [
        {
          "output_type": "stream",
          "name": "stdout",
          "text": [
            " * sqlite://\n",
            "(sqlite3.OperationalError) unrecognized token: \"!\"\n",
            "[SQL: SELECT city, geography_zone, zone_name, region\n",
            "FROM df4\n",
            "WHERE status =! 'in service'\n",
            "GROUP BY status DESC;]\n",
            "(Background on this error at: https://sqlalche.me/e/14/e3q8)\n"
          ]
        }
      ]
    },
    {
      "cell_type": "markdown",
      "source": [
        ">Cell numbers of users that are not in service"
      ],
      "metadata": {
        "id": "-CFrY0wYp2kz"
      }
    },
    {
      "cell_type": "code",
      "source": [
        "%%sql\n",
        "SELECT dw_a_number_int\n",
        "FROM df1\n",
        "INNER JOIN df4 ON df_master.cell_id = df4.cell_id\n",
        "WHERE status != 'in service'"
      ],
      "metadata": {
        "colab": {
          "base_uri": "https://localhost:8080/"
        },
        "id": "yrkikqNTqGOY",
        "outputId": "c3d08a2e-adc8-4a4d-ed55-a96b1ca95468"
      },
      "execution_count": null,
      "outputs": [
        {
          "output_type": "stream",
          "name": "stdout",
          "text": [
            " * sqlite://\n",
            "(sqlite3.OperationalError) no such column: df_master.cell_id\n",
            "[SQL: SELECT dw_a_number_int\n",
            "FROM df1\n",
            "INNER JOIN df4 ON df_master.cell_id = df4.cell_id\n",
            "WHERE status != 'in service']\n",
            "(Background on this error at: https://sqlalche.me/e/14/e3q8)\n"
          ]
        }
      ]
    },
    {
      "cell_type": "markdown",
      "source": [
        ">Cities with the most users during business hours"
      ],
      "metadata": {
        "id": "QUGlFyUjrW8k"
      }
    },
    {
      "cell_type": "code",
      "source": [
        "%%sql\n",
        "SELECT city \n",
        "FROM df4\n",
        "INNER JOIN df_master ON df4.cell_id = df_master.cell_id\n",
        "WHERE date_time BETWEEN   AND\n",
        "GROUP BY city DESC;"
      ],
      "metadata": {
        "colab": {
          "base_uri": "https://localhost:8080/"
        },
        "id": "1Tjk3bHRryxE",
        "outputId": "c750ed40-7e9d-4868-fe02-e64666b938d1"
      },
      "execution_count": null,
      "outputs": [
        {
          "output_type": "stream",
          "name": "stdout",
          "text": [
            " * sqlite://\n",
            "(sqlite3.OperationalError) near \"AND\": syntax error\n",
            "[SQL: SELECT city \n",
            "FROM df4\n",
            "INNER JOIN df_master ON df4.cell_id = df_master.cell_id\n",
            "WHERE date_time BETWEEN   AND\n",
            "GROUP BY city DESC;]\n",
            "(Background on this error at: https://sqlalche.me/e/14/e3q8)\n"
          ]
        }
      ]
    },
    {
      "cell_type": "code",
      "source": [],
      "metadata": {
        "id": "CXdI5DA3LytS"
      },
      "execution_count": null,
      "outputs": []
    },
    {
      "cell_type": "markdown",
      "source": [
        "#Data Viz with seaborn"
      ],
      "metadata": {
        "id": "x8aZkfp5L20S"
      }
    },
    {
      "cell_type": "code",
      "source": [
        "pip install seaborn"
      ],
      "metadata": {
        "colab": {
          "base_uri": "https://localhost:8080/"
        },
        "id": "GJlNtQsGL9gR",
        "outputId": "47674572-2467-487a-b2ba-70f2eaf1d892"
      },
      "execution_count": null,
      "outputs": [
        {
          "output_type": "stream",
          "name": "stdout",
          "text": [
            "Looking in indexes: https://pypi.org/simple, https://us-python.pkg.dev/colab-wheels/public/simple/\n",
            "Requirement already satisfied: seaborn in /usr/local/lib/python3.7/dist-packages (0.11.2)\n",
            "Requirement already satisfied: matplotlib>=2.2 in /usr/local/lib/python3.7/dist-packages (from seaborn) (3.2.2)\n",
            "Requirement already satisfied: scipy>=1.0 in /usr/local/lib/python3.7/dist-packages (from seaborn) (1.7.3)\n",
            "Requirement already satisfied: pandas>=0.23 in /usr/local/lib/python3.7/dist-packages (from seaborn) (1.3.5)\n",
            "Requirement already satisfied: numpy>=1.15 in /usr/local/lib/python3.7/dist-packages (from seaborn) (1.21.6)\n",
            "Requirement already satisfied: kiwisolver>=1.0.1 in /usr/local/lib/python3.7/dist-packages (from matplotlib>=2.2->seaborn) (1.4.4)\n",
            "Requirement already satisfied: pyparsing!=2.0.4,!=2.1.2,!=2.1.6,>=2.0.1 in /usr/local/lib/python3.7/dist-packages (from matplotlib>=2.2->seaborn) (3.0.9)\n",
            "Requirement already satisfied: python-dateutil>=2.1 in /usr/local/lib/python3.7/dist-packages (from matplotlib>=2.2->seaborn) (2.8.2)\n",
            "Requirement already satisfied: cycler>=0.10 in /usr/local/lib/python3.7/dist-packages (from matplotlib>=2.2->seaborn) (0.11.0)\n",
            "Requirement already satisfied: typing-extensions in /usr/local/lib/python3.7/dist-packages (from kiwisolver>=1.0.1->matplotlib>=2.2->seaborn) (4.1.1)\n",
            "Requirement already satisfied: pytz>=2017.3 in /usr/local/lib/python3.7/dist-packages (from pandas>=0.23->seaborn) (2022.2.1)\n",
            "Requirement already satisfied: six>=1.5 in /usr/local/lib/python3.7/dist-packages (from python-dateutil>=2.1->matplotlib>=2.2->seaborn) (1.15.0)\n"
          ]
        }
      ]
    },
    {
      "cell_type": "code",
      "source": [
        "import seaborn as sns"
      ],
      "metadata": {
        "id": "-cvOie3VMG5z"
      },
      "execution_count": null,
      "outputs": []
    },
    {
      "cell_type": "markdown",
      "source": [
        ">6th May 2012 product usage and value"
      ],
      "metadata": {
        "id": "Kk_ssgLcQ4Cx"
      }
    },
    {
      "cell_type": "code",
      "source": [
        "sns.relplot(data=df1, x=\"date_time\", y=\"value\", hue=\"product\")"
      ],
      "metadata": {
        "colab": {
          "base_uri": "https://localhost:8080/",
          "height": 387
        },
        "id": "xFOcjnjXMPCr",
        "outputId": "68c6ee8f-f6c9-454b-fd03-e6332cfe2d34"
      },
      "execution_count": null,
      "outputs": [
        {
          "output_type": "execute_result",
          "data": {
            "text/plain": [
              "<seaborn.axisgrid.FacetGrid at 0x7fa0201f9bd0>"
            ]
          },
          "metadata": {},
          "execution_count": 96
        },
        {
          "output_type": "display_data",
          "data": {
            "text/plain": [
              "<Figure size 422.625x360 with 1 Axes>"
            ],
            "image/png": "[encoded data removed]"
          },
          "metadata": {
            "needs_background": "light"
          }
        }
      ]
    },
    {
      "cell_type": "code",
      "source": [
        "sns.relplot(data=df1, x=\"date_time\", y=\"value\", hue=\"product\", kind=\"line\")"
      ],
      "metadata": {
        "colab": {
          "base_uri": "https://localhost:8080/",
          "height": 387
        },
        "id": "Nzhb6WTgNEOK",
        "outputId": "a87699d8-f521-4a69-b22e-b320ac4a6d57"
      },
      "execution_count": null,
      "outputs": [
        {
          "output_type": "execute_result",
          "data": {
            "text/plain": [
              "<seaborn.axisgrid.FacetGrid at 0x7fa0201547d0>"
            ]
          },
          "metadata": {},
          "execution_count": 98
        },
        {
          "output_type": "display_data",
          "data": {
            "text/plain": [
              "<Figure size 422.625x360 with 1 Axes>"
            ],
            "image/png": "[encoded data removed]"
          },
          "metadata": {
            "needs_background": "light"
          }
        }
      ]
    },
    {
      "cell_type": "code",
      "source": [
        "sns.displot(df1, x=\"product\")"
      ],
      "metadata": {
        "colab": {
          "base_uri": "https://localhost:8080/",
          "height": 386
        },
        "id": "yxX41ms-O4se",
        "outputId": "8b697fe3-dbd8-4714-f301-e6e7afffc13e"
      },
      "execution_count": null,
      "outputs": [
        {
          "output_type": "execute_result",
          "data": {
            "text/plain": [
              "<seaborn.axisgrid.FacetGrid at 0x7fa020044790>"
            ]
          },
          "metadata": {},
          "execution_count": 99
        },
        {
          "output_type": "display_data",
          "data": {
            "text/plain": [
              "<Figure size 360x360 with 1 Axes>"
            ],
            "image/png": "[encoded data removed]"
          },
          "metadata": {
            "needs_background": "light"
          }
        }
      ]
    },
    {
      "cell_type": "code",
      "source": [
        "sns.catplot(data=df1, x=\"product\", y=\"value\")"
      ],
      "metadata": {
        "colab": {
          "base_uri": "https://localhost:8080/",
          "height": 386
        },
        "id": "JxxFG9xwPShc",
        "outputId": "0e4bcb38-ef97-42ae-9b50-2efd316dd465"
      },
      "execution_count": null,
      "outputs": [
        {
          "output_type": "execute_result",
          "data": {
            "text/plain": [
              "<seaborn.axisgrid.FacetGrid at 0x7fa012211c90>"
            ]
          },
          "metadata": {},
          "execution_count": 114
        },
        {
          "output_type": "display_data",
          "data": {
            "text/plain": [
              "<Figure size 360x360 with 1 Axes>"
            ],
            "image/png": "[encoded data removed]"
          },
          "metadata": {
            "needs_background": "light"
          }
        }
      ]
    },
    {
      "cell_type": "markdown",
      "source": [
        ">7th May 2012 product usage and value"
      ],
      "metadata": {
        "id": "DRSfE-5QRSBn"
      }
    },
    {
      "cell_type": "code",
      "source": [
        "sns.relplot(data=df2, x=\"date_time\", y=\"value\", hue=\"product\")"
      ],
      "metadata": {
        "colab": {
          "base_uri": "https://localhost:8080/",
          "height": 387
        },
        "id": "oczGZ62YSCSR",
        "outputId": "57943920-64be-453c-f274-e33548f8e94c"
      },
      "execution_count": null,
      "outputs": [
        {
          "output_type": "execute_result",
          "data": {
            "text/plain": [
              "<seaborn.axisgrid.FacetGrid at 0x7fa011eb7890>"
            ]
          },
          "metadata": {},
          "execution_count": 111
        },
        {
          "output_type": "display_data",
          "data": {
            "text/plain": [
              "<Figure size 422.625x360 with 1 Axes>"
            ],
            "image/png": "[encoded data removed]"
          },
          "metadata": {
            "needs_background": "light"
          }
        }
      ]
    },
    {
      "cell_type": "code",
      "source": [
        "sns.relplot(data=df2, x=\"date_time\", y=\"value\", hue=\"product\", kind=\"line\")"
      ],
      "metadata": {
        "colab": {
          "base_uri": "https://localhost:8080/",
          "height": 387
        },
        "id": "JrUbX_xPR6P1",
        "outputId": "583b9724-8161-43c3-d597-94b5e1b9a6ec"
      },
      "execution_count": null,
      "outputs": [
        {
          "output_type": "execute_result",
          "data": {
            "text/plain": [
              "<seaborn.axisgrid.FacetGrid at 0x7fa011f4d650>"
            ]
          },
          "metadata": {},
          "execution_count": 110
        },
        {
          "output_type": "display_data",
          "data": {
            "text/plain": [
              "<Figure size 422.625x360 with 1 Axes>"
            ],
            "image/png": "[encoded data removed]"
          },
          "metadata": {
            "needs_background": "light"
          }
        }
      ]
    },
    {
      "cell_type": "code",
      "source": [
        "sns.displot(df2, x=\"product\")"
      ],
      "metadata": {
        "colab": {
          "base_uri": "https://localhost:8080/",
          "height": 386
        },
        "id": "xMz5jAjER6Zt",
        "outputId": "22ee1904-2259-4b12-a285-d635f0021851"
      },
      "execution_count": null,
      "outputs": [
        {
          "output_type": "execute_result",
          "data": {
            "text/plain": [
              "<seaborn.axisgrid.FacetGrid at 0x7fa01208df10>"
            ]
          },
          "metadata": {},
          "execution_count": 109
        },
        {
          "output_type": "display_data",
          "data": {
            "text/plain": [
              "<Figure size 360x360 with 1 Axes>"
            ],
            "image/png": "[encoded data removed]"
          },
          "metadata": {
            "needs_background": "light"
          }
        }
      ]
    },
    {
      "cell_type": "code",
      "source": [
        "sns.catplot(data=df2, x=\"product\", y=\"value\")"
      ],
      "metadata": {
        "colab": {
          "base_uri": "https://localhost:8080/",
          "height": 386
        },
        "id": "UALo6HaXR6id",
        "outputId": "8dd9ffed-e114-4931-b092-a30bfbcf21e3"
      },
      "execution_count": null,
      "outputs": [
        {
          "output_type": "execute_result",
          "data": {
            "text/plain": [
              "<seaborn.axisgrid.FacetGrid at 0x7fa011d56690>"
            ]
          },
          "metadata": {},
          "execution_count": 113
        },
        {
          "output_type": "display_data",
          "data": {
            "text/plain": [
              "<Figure size 360x360 with 1 Axes>"
            ],
            "image/png": "[encoded data removed]"
          },
          "metadata": {
            "needs_background": "light"
          }
        }
      ]
    },
    {
      "cell_type": "markdown",
      "source": [
        ">8th May 2012 product usage and value"
      ],
      "metadata": {
        "id": "hiqMoF5tRSNB"
      }
    },
    {
      "cell_type": "code",
      "source": [
        "sns.relplot(data=df3, x=\"date_time\", y=\"value\", hue=\"product\")"
      ],
      "metadata": {
        "colab": {
          "base_uri": "https://localhost:8080/",
          "height": 387
        },
        "id": "ZNKO-Z8jRfuw",
        "outputId": "e2038b28-6e20-4719-9473-a77813ccb8c6"
      },
      "execution_count": null,
      "outputs": [
        {
          "output_type": "execute_result",
          "data": {
            "text/plain": [
              "<seaborn.axisgrid.FacetGrid at 0x7fa01207e190>"
            ]
          },
          "metadata": {},
          "execution_count": 107
        },
        {
          "output_type": "display_data",
          "data": {
            "text/plain": [
              "<Figure size 422.625x360 with 1 Axes>"
            ],
            "image/png": "[encoded data removed]"
          },
          "metadata": {
            "needs_background": "light"
          }
        }
      ]
    },
    {
      "cell_type": "code",
      "source": [
        "sns.relplot(data=df3, x=\"date_time\", y=\"value\", hue=\"product\", kind=\"line\")"
      ],
      "metadata": {
        "colab": {
          "base_uri": "https://localhost:8080/",
          "height": 387
        },
        "id": "6bD9Z60URi5I",
        "outputId": "5406e849-d6f4-444a-b376-d1efefab476b"
      },
      "execution_count": null,
      "outputs": [
        {
          "output_type": "execute_result",
          "data": {
            "text/plain": [
              "<seaborn.axisgrid.FacetGrid at 0x7fa0123228d0>"
            ]
          },
          "metadata": {},
          "execution_count": 106
        },
        {
          "output_type": "display_data",
          "data": {
            "text/plain": [
              "<Figure size 422.625x360 with 1 Axes>"
            ],
            "image/png": "[encoded data removed]"
          },
          "metadata": {
            "needs_background": "light"
          }
        }
      ]
    },
    {
      "cell_type": "code",
      "source": [
        "sns.displot(df3, x=\"product\")"
      ],
      "metadata": {
        "colab": {
          "base_uri": "https://localhost:8080/",
          "height": 386
        },
        "id": "ilZp9akERjOF",
        "outputId": "be9041a7-3562-4c2b-df70-3e829913788d"
      },
      "execution_count": null,
      "outputs": [
        {
          "output_type": "execute_result",
          "data": {
            "text/plain": [
              "<seaborn.axisgrid.FacetGrid at 0x7fa0121b2d50>"
            ]
          },
          "metadata": {},
          "execution_count": 105
        },
        {
          "output_type": "display_data",
          "data": {
            "text/plain": [
              "<Figure size 360x360 with 1 Axes>"
            ],
            "image/png": "[encoded data removed]"
          },
          "metadata": {
            "needs_background": "light"
          }
        }
      ]
    },
    {
      "cell_type": "code",
      "source": [
        "sns.catplot(data=df3, x=\"product\", y=\"value\")"
      ],
      "metadata": {
        "colab": {
          "base_uri": "https://localhost:8080/",
          "height": 386
        },
        "id": "SDAT4apuTICV",
        "outputId": "67aca870-d9cf-4b50-e582-85c9b0c8f684"
      },
      "execution_count": null,
      "outputs": [
        {
          "output_type": "execute_result",
          "data": {
            "text/plain": [
              "<seaborn.axisgrid.FacetGrid at 0x7fa011e57bd0>"
            ]
          },
          "metadata": {},
          "execution_count": 112
        },
        {
          "output_type": "display_data",
          "data": {
            "text/plain": [
              "<Figure size 360x360 with 1 Axes>"
            ],
            "image/png": "[encoded data removed]"
          },
          "metadata": {
            "needs_background": "light"
          }
        }
      ]
    },
    {
      "cell_type": "markdown",
      "source": [
        "#Geometry data conversion with pandas and geopandas\n",
        ">To be used in tableau"
      ],
      "metadata": {
        "id": "6_7H7BavZVqA"
      }
    },
    {
      "cell_type": "code",
      "source": [
        "df4.head(1)"
      ],
      "metadata": {
        "colab": {
          "base_uri": "https://localhost:8080/",
          "height": 162
        },
        "id": "plKE87FsZiXK",
        "outputId": "767c7dae-de7a-45bb-a3ca-f6270c0dcf10"
      },
      "execution_count": null,
      "outputs": [
        {
          "output_type": "execute_result",
          "data": {
            "text/plain": [
              "     city      status localisation geography_zone zone_name  longitude  \\\n",
              "0  ADJAME  In Service      ABIDJAN   \"Abidjan_EST  AGBANNEW  -4.000667   \n",
              "\n",
              "   latitude  region area     cell_id   site_code  \n",
              "0  5.368194  LAGUNE  NaN  fbb2e75af3  0bb492ef17  "
            ],
            "text/html": [
              "\n",
              "  <div id=\"df-67d28462-6752-43a1-a6ee-9761d1c7c61f\">\n",
              "    <div class=\"colab-df-container\">\n",
              "      <div>\n",
              "<style scoped>\n",
              "    .dataframe tbody tr th:only-of-type {\n",
              "        vertical-align: middle;\n",
              "    }\n",
              "\n",
              "    .dataframe tbody tr th {\n",
              "        vertical-align: top;\n",
              "    }\n",
              "\n",
              "    .dataframe thead th {\n",
              "        text-align: right;\n",
              "    }\n",
              "</style>\n",
              "<table border=\"1\" class=\"dataframe\">\n",
              "  <thead>\n",
              "    <tr style=\"text-align: right;\">\n",
              "      <th></th>\n",
              "      <th>city</th>\n",
              "      <th>status</th>\n",
              "      <th>localisation</th>\n",
              "      <th>geography_zone</th>\n",
              "      <th>zone_name</th>\n",
              "      <th>longitude</th>\n",
              "      <th>latitude</th>\n",
              "      <th>region</th>\n",
              "      <th>area</th>\n",
              "      <th>cell_id</th>\n",
              "      <th>site_code</th>\n",
              "    </tr>\n",
              "  </thead>\n",
              "  <tbody>\n",
              "    <tr>\n",
              "      <th>0</th>\n",
              "      <td>ADJAME</td>\n",
              "      <td>In Service</td>\n",
              "      <td>ABIDJAN</td>\n",
              "      <td>\"Abidjan_EST</td>\n",
              "      <td>AGBANNEW</td>\n",
              "      <td>-4.000667</td>\n",
              "      <td>5.368194</td>\n",
              "      <td>LAGUNE</td>\n",
              "      <td>NaN</td>\n",
              "      <td>fbb2e75af3</td>\n",
              "      <td>0bb492ef17</td>\n",
              "    </tr>\n",
              "  </tbody>\n",
              "</table>\n",
              "</div>\n",
              "      <button class=\"colab-df-convert\" onclick=\"convertToInteractive('df-67d28462-6752-43a1-a6ee-9761d1c7c61f')\"\n",
              "              title=\"Convert this dataframe to an interactive table.\"\n",
              "              style=\"display:none;\">\n",
              "        \n",
              "  <svg xmlns=\"http://www.w3.org/2000/svg\" height=\"24px\"viewBox=\"0 0 24 24\"\n",
              "       width=\"24px\">\n",
              "    <path d=\"M0 0h24v24H0V0z\" fill=\"none\"/>\n",
              "    <path d=\"M18.56 5.44l.94 2.06.94-2.06 2.06-.94-2.06-.94-.94-2.06-.94 2.06-2.06.94zm-11 1L8.5 8.5l.94-2.06 2.06-.94-2.06-.94L8.5 2.5l-.94 2.06-2.06.94zm10 10l.94 2.06.94-2.06 2.06-.94-2.06-.94-.94-2.06-.94 2.06-2.06.94z\"/><path d=\"M17.41 7.96l-1.37-1.37c-.4-.4-.92-.59-1.43-.59-.52 0-1.04.2-1.43.59L10.3 9.45l-7.72 7.72c-.78.78-.78 2.05 0 2.83L4 21.41c.39.39.9.59 1.41.59.51 0 1.02-.2 1.41-.59l7.78-7.78 2.81-2.81c.8-.78.8-2.07 0-2.86zM5.41 20L4 18.59l7.72-7.72 1.47 1.35L5.41 20z\"/>\n",
              "  </svg>\n",
              "      </button>\n",
              "      \n",
              "  <style>\n",
              "    .colab-df-container {\n",
              "      display:flex;\n",
              "      flex-wrap:wrap;\n",
              "      gap: 12px;\n",
              "    }\n",
              "\n",
              "    .colab-df-convert {\n",
              "      background-color: #E8F0FE;\n",
              "      border: none;\n",
              "      border-radius: 50%;\n",
              "      cursor: pointer;\n",
              "      display: none;\n",
              "      fill: #1967D2;\n",
              "      height: 32px;\n",
              "      padding: 0 0 0 0;\n",
              "      width: 32px;\n",
              "    }\n",
              "\n",
              "    .colab-df-convert:hover {\n",
              "      background-color: #E2EBFA;\n",
              "      box-shadow: 0px 1px 2px rgba(60, 64, 67, 0.3), 0px 1px 3px 1px rgba(60, 64, 67, 0.15);\n",
              "      fill: #174EA6;\n",
              "    }\n",
              "\n",
              "    [theme=dark] .colab-df-convert {\n",
              "      background-color: #3B4455;\n",
              "      fill: #D2E3FC;\n",
              "    }\n",
              "\n",
              "    [theme=dark] .colab-df-convert:hover {\n",
              "      background-color: #434B5C;\n",
              "      box-shadow: 0px 1px 3px 1px rgba(0, 0, 0, 0.15);\n",
              "      filter: drop-shadow(0px 1px 2px rgba(0, 0, 0, 0.3));\n",
              "      fill: #FFFFFF;\n",
              "    }\n",
              "  </style>\n",
              "\n",
              "      <script>\n",
              "        const buttonEl =\n",
              "          document.querySelector('#df-67d28462-6752-43a1-a6ee-9761d1c7c61f button.colab-df-convert');\n",
              "        buttonEl.style.display =\n",
              "          google.colab.kernel.accessAllowed ? 'block' : 'none';\n",
              "\n",
              "        async function convertToInteractive(key) {\n",
              "          const element = document.querySelector('#df-67d28462-6752-43a1-a6ee-9761d1c7c61f');\n",
              "          const dataTable =\n",
              "            await google.colab.kernel.invokeFunction('convertToInteractive',\n",
              "                                                     [key], {});\n",
              "          if (!dataTable) return;\n",
              "\n",
              "          const docLinkHtml = 'Like what you see? Visit the ' +\n",
              "            '<a target=\"_blank\" href=https://colab.research.google.com/notebooks/data_table.ipynb>data table notebook</a>'\n",
              "            + ' to learn more about interactive tables.';\n",
              "          element.innerHTML = '';\n",
              "          dataTable['output_type'] = 'display_data';\n",
              "          await google.colab.output.renderOutput(dataTable, element);\n",
              "          const docLink = document.createElement('div');\n",
              "          docLink.innerHTML = docLinkHtml;\n",
              "          element.appendChild(docLink);\n",
              "        }\n",
              "      </script>\n",
              "    </div>\n",
              "  </div>\n",
              "  "
            ]
          },
          "metadata": {},
          "execution_count": 115
        }
      ]
    },
    {
      "cell_type": "code",
      "source": [
        "pip install geopandas"
      ],
      "metadata": {
        "colab": {
          "base_uri": "https://localhost:8080/"
        },
        "id": "M_j-URzgZ31H",
        "outputId": "3588edaf-15cf-4d31-b408-140fc3595446"
      },
      "execution_count": null,
      "outputs": [
        {
          "output_type": "stream",
          "name": "stdout",
          "text": [
            "Looking in indexes: https://pypi.org/simple, https://us-python.pkg.dev/colab-wheels/public/simple/\n",
            "Collecting geopandas\n",
            "  Downloading geopandas-0.10.2-py2.py3-none-any.whl (1.0 MB)\n",
            "\u001b[K     |████████████████████████████████| 1.0 MB 6.7 MB/s \n",
            "\u001b[?25hCollecting fiona>=1.8\n",
            "  Downloading Fiona-1.8.21-cp37-cp37m-manylinux2014_x86_64.whl (16.7 MB)\n",
            "\u001b[K     |████████████████████████████████| 16.7 MB 423 kB/s \n",
            "\u001b[?25hRequirement already satisfied: shapely>=1.6 in /usr/local/lib/python3.7/dist-packages (from geopandas) (1.8.4)\n",
            "Collecting pyproj>=2.2.0\n",
            "  Downloading pyproj-3.2.1-cp37-cp37m-manylinux2010_x86_64.whl (6.3 MB)\n",
            "\u001b[K     |████████████████████████████████| 6.3 MB 7.3 MB/s \n",
            "\u001b[?25hRequirement already satisfied: pandas>=0.25.0 in /usr/local/lib/python3.7/dist-packages (from geopandas) (1.3.5)\n",
            "Requirement already satisfied: six>=1.7 in /usr/local/lib/python3.7/dist-packages (from fiona>=1.8->geopandas) (1.15.0)\n",
            "Requirement already satisfied: setuptools in /usr/local/lib/python3.7/dist-packages (from fiona>=1.8->geopandas) (57.4.0)\n",
            "Collecting click-plugins>=1.0\n",
            "  Downloading click_plugins-1.1.1-py2.py3-none-any.whl (7.5 kB)\n",
            "Requirement already satisfied: click>=4.0 in /usr/local/lib/python3.7/dist-packages (from fiona>=1.8->geopandas) (7.1.2)\n",
            "Collecting munch\n",
            "  Downloading munch-2.5.0-py2.py3-none-any.whl (10 kB)\n",
            "Requirement already satisfied: certifi in /usr/local/lib/python3.7/dist-packages (from fiona>=1.8->geopandas) (2022.6.15)\n",
            "Collecting cligj>=0.5\n",
            "  Downloading cligj-0.7.2-py3-none-any.whl (7.1 kB)\n",
            "Requirement already satisfied: attrs>=17 in /usr/local/lib/python3.7/dist-packages (from fiona>=1.8->geopandas) (22.1.0)\n",
            "Requirement already satisfied: python-dateutil>=2.7.3 in /usr/local/lib/python3.7/dist-packages (from pandas>=0.25.0->geopandas) (2.8.2)\n",
            "Requirement already satisfied: numpy>=1.17.3 in /usr/local/lib/python3.7/dist-packages (from pandas>=0.25.0->geopandas) (1.21.6)\n",
            "Requirement already satisfied: pytz>=2017.3 in /usr/local/lib/python3.7/dist-packages (from pandas>=0.25.0->geopandas) (2022.2.1)\n",
            "Installing collected packages: munch, cligj, click-plugins, pyproj, fiona, geopandas\n",
            "Successfully installed click-plugins-1.1.1 cligj-0.7.2 fiona-1.8.21 geopandas-0.10.2 munch-2.5.0 pyproj-3.2.1\n"
          ]
        }
      ]
    },
    {
      "cell_type": "code",
      "source": [
        "from shapely.geometry import Point # Shapely for converting latitude/longtitude to geometry\n",
        "import geopandas as gpd # To create GeodataFrame"
      ],
      "metadata": {
        "id": "vHpW-AptZnSA"
      },
      "execution_count": null,
      "outputs": []
    },
    {
      "cell_type": "code",
      "source": [
        "# creating a geometry column \n",
        "geometry = [Point(xy) for xy in zip(df4['longitude'], df4['latitude'])]\n",
        "\n",
        "# Coordinate reference system : WGS84\n",
        "crs = {'init': 'epsg:4326'}\n",
        "\n",
        "# Creating a Geographic data frame \n",
        "gdf = gpd.GeoDataFrame(df4, crs=crs, geometry=geometry)"
      ],
      "metadata": {
        "colab": {
          "base_uri": "https://localhost:8080/"
        },
        "id": "g-8efi_9aBNm",
        "outputId": "d689ce38-61db-4896-ae70-825ea4551469"
      },
      "execution_count": null,
      "outputs": [
        {
          "output_type": "stream",
          "name": "stderr",
          "text": [
            "/usr/local/lib/python3.7/dist-packages/pyproj/crs/crs.py:131: FutureWarning:\n",
            "\n",
            "'+init=<authority>:<code>' syntax is deprecated. '<authority>:<code>' is the preferred initialization method. When making the change, be mindful of axis order changes: https://pyproj4.github.io/pyproj/stable/gotchas.html#axis-order-changes-in-proj-6\n",
            "\n"
          ]
        }
      ]
    },
    {
      "cell_type": "code",
      "source": [
        "gdf.head(2)"
      ],
      "metadata": {
        "colab": {
          "base_uri": "https://localhost:8080/",
          "height": 246
        },
        "id": "Ugf_pG6ybVyr",
        "outputId": "104cebd4-498b-4940-ae78-f7d372b01f11"
      },
      "execution_count": null,
      "outputs": [
        {
          "output_type": "execute_result",
          "data": {
            "text/plain": [
              "     city      status localisation geography_zone zone_name  longitude  \\\n",
              "0  ADJAME  In Service      ABIDJAN   \"Abidjan_EST  AGBANNEW  -4.000667   \n",
              "1  ADJAME  In Service      ABIDJAN   \"Abidjan_EST  AGBANNEW  -4.000667   \n",
              "\n",
              "   latitude  region area     cell_id   site_code                  geometry  \n",
              "0  5.368194  LAGUNE  NaN  fbb2e75af3  0bb492ef17  POINT (-4.00067 5.36819)  \n",
              "1  5.368194  LAGUNE  NaN  1502501d78  0bb492ef17  POINT (-4.00067 5.36819)  "
            ],
            "text/html": [
              "\n",
              "  <div id=\"df-c487bf8e-7aca-4a0b-8005-9dc5604cc076\">\n",
              "    <div class=\"colab-df-container\">\n",
              "      <div>\n",
              "<style scoped>\n",
              "    .dataframe tbody tr th:only-of-type {\n",
              "        vertical-align: middle;\n",
              "    }\n",
              "\n",
              "    .dataframe tbody tr th {\n",
              "        vertical-align: top;\n",
              "    }\n",
              "\n",
              "    .dataframe thead th {\n",
              "        text-align: right;\n",
              "    }\n",
              "</style>\n",
              "<table border=\"1\" class=\"dataframe\">\n",
              "  <thead>\n",
              "    <tr style=\"text-align: right;\">\n",
              "      <th></th>\n",
              "      <th>city</th>\n",
              "      <th>status</th>\n",
              "      <th>localisation</th>\n",
              "      <th>geography_zone</th>\n",
              "      <th>zone_name</th>\n",
              "      <th>longitude</th>\n",
              "      <th>latitude</th>\n",
              "      <th>region</th>\n",
              "      <th>area</th>\n",
              "      <th>cell_id</th>\n",
              "      <th>site_code</th>\n",
              "      <th>geometry</th>\n",
              "    </tr>\n",
              "  </thead>\n",
              "  <tbody>\n",
              "    <tr>\n",
              "      <th>0</th>\n",
              "      <td>ADJAME</td>\n",
              "      <td>In Service</td>\n",
              "      <td>ABIDJAN</td>\n",
              "      <td>\"Abidjan_EST</td>\n",
              "      <td>AGBANNEW</td>\n",
              "      <td>-4.000667</td>\n",
              "      <td>5.368194</td>\n",
              "      <td>LAGUNE</td>\n",
              "      <td>NaN</td>\n",
              "      <td>fbb2e75af3</td>\n",
              "      <td>0bb492ef17</td>\n",
              "      <td>POINT (-4.00067 5.36819)</td>\n",
              "    </tr>\n",
              "    <tr>\n",
              "      <th>1</th>\n",
              "      <td>ADJAME</td>\n",
              "      <td>In Service</td>\n",
              "      <td>ABIDJAN</td>\n",
              "      <td>\"Abidjan_EST</td>\n",
              "      <td>AGBANNEW</td>\n",
              "      <td>-4.000667</td>\n",
              "      <td>5.368194</td>\n",
              "      <td>LAGUNE</td>\n",
              "      <td>NaN</td>\n",
              "      <td>1502501d78</td>\n",
              "      <td>0bb492ef17</td>\n",
              "      <td>POINT (-4.00067 5.36819)</td>\n",
              "    </tr>\n",
              "  </tbody>\n",
              "</table>\n",
              "</div>\n",
              "      <button class=\"colab-df-convert\" onclick=\"convertToInteractive('df-c487bf8e-7aca-4a0b-8005-9dc5604cc076')\"\n",
              "              title=\"Convert this dataframe to an interactive table.\"\n",
              "              style=\"display:none;\">\n",
              "        \n",
              "  <svg xmlns=\"http://www.w3.org/2000/svg\" height=\"24px\"viewBox=\"0 0 24 24\"\n",
              "       width=\"24px\">\n",
              "    <path d=\"M0 0h24v24H0V0z\" fill=\"none\"/>\n",
              "    <path d=\"M18.56 5.44l.94 2.06.94-2.06 2.06-.94-2.06-.94-.94-2.06-.94 2.06-2.06.94zm-11 1L8.5 8.5l.94-2.06 2.06-.94-2.06-.94L8.5 2.5l-.94 2.06-2.06.94zm10 10l.94 2.06.94-2.06 2.06-.94-2.06-.94-.94-2.06-.94 2.06-2.06.94z\"/><path d=\"M17.41 7.96l-1.37-1.37c-.4-.4-.92-.59-1.43-.59-.52 0-1.04.2-1.43.59L10.3 9.45l-7.72 7.72c-.78.78-.78 2.05 0 2.83L4 21.41c.39.39.9.59 1.41.59.51 0 1.02-.2 1.41-.59l7.78-7.78 2.81-2.81c.8-.78.8-2.07 0-2.86zM5.41 20L4 18.59l7.72-7.72 1.47 1.35L5.41 20z\"/>\n",
              "  </svg>\n",
              "      </button>\n",
              "      \n",
              "  <style>\n",
              "    .colab-df-container {\n",
              "      display:flex;\n",
              "      flex-wrap:wrap;\n",
              "      gap: 12px;\n",
              "    }\n",
              "\n",
              "    .colab-df-convert {\n",
              "      background-color: #E8F0FE;\n",
              "      border: none;\n",
              "      border-radius: 50%;\n",
              "      cursor: pointer;\n",
              "      display: none;\n",
              "      fill: #1967D2;\n",
              "      height: 32px;\n",
              "      padding: 0 0 0 0;\n",
              "      width: 32px;\n",
              "    }\n",
              "\n",
              "    .colab-df-convert:hover {\n",
              "      background-color: #E2EBFA;\n",
              "      box-shadow: 0px 1px 2px rgba(60, 64, 67, 0.3), 0px 1px 3px 1px rgba(60, 64, 67, 0.15);\n",
              "      fill: #174EA6;\n",
              "    }\n",
              "\n",
              "    [theme=dark] .colab-df-convert {\n",
              "      background-color: #3B4455;\n",
              "      fill: #D2E3FC;\n",
              "    }\n",
              "\n",
              "    [theme=dark] .colab-df-convert:hover {\n",
              "      background-color: #434B5C;\n",
              "      box-shadow: 0px 1px 3px 1px rgba(0, 0, 0, 0.15);\n",
              "      filter: drop-shadow(0px 1px 2px rgba(0, 0, 0, 0.3));\n",
              "      fill: #FFFFFF;\n",
              "    }\n",
              "  </style>\n",
              "\n",
              "      <script>\n",
              "        const buttonEl =\n",
              "          document.querySelector('#df-c487bf8e-7aca-4a0b-8005-9dc5604cc076 button.colab-df-convert');\n",
              "        buttonEl.style.display =\n",
              "          google.colab.kernel.accessAllowed ? 'block' : 'none';\n",
              "\n",
              "        async function convertToInteractive(key) {\n",
              "          const element = document.querySelector('#df-c487bf8e-7aca-4a0b-8005-9dc5604cc076');\n",
              "          const dataTable =\n",
              "            await google.colab.kernel.invokeFunction('convertToInteractive',\n",
              "                                                     [key], {});\n",
              "          if (!dataTable) return;\n",
              "\n",
              "          const docLinkHtml = 'Like what you see? Visit the ' +\n",
              "            '<a target=\"_blank\" href=https://colab.research.google.com/notebooks/data_table.ipynb>data table notebook</a>'\n",
              "            + ' to learn more about interactive tables.';\n",
              "          element.innerHTML = '';\n",
              "          dataTable['output_type'] = 'display_data';\n",
              "          await google.colab.output.renderOutput(dataTable, element);\n",
              "          const docLink = document.createElement('div');\n",
              "          docLink.innerHTML = docLinkHtml;\n",
              "          element.appendChild(docLink);\n",
              "        }\n",
              "      </script>\n",
              "    </div>\n",
              "  </div>\n",
              "  "
            ]
          },
          "metadata": {},
          "execution_count": 121
        }
      ]
    },
    {
      "cell_type": "code",
      "source": [
        "# converting to CSV file\n",
        "df4.to_csv(\"cells_geometry.csv\")"
      ],
      "metadata": {
        "id": "gHXK6bcHea_v"
      },
      "execution_count": null,
      "outputs": []
    },
    {
      "cell_type": "markdown",
      "source": [
        "# New Section"
      ],
      "metadata": {
        "id": "NfzXk1MJfbmh"
      }
    },
    {
      "cell_type": "markdown",
      "source": [
        "#OBSERVATIONS"
      ],
      "metadata": {
        "id": "9Glz1otte7El"
      }
    },
    {
      "cell_type": "markdown",
      "source": [
        "\n",
        "\n",
        "1. Voice products have the highest price and sms have the least\n",
        "2. SMS and voice products are most widely used\n",
        "3. Voice products used more after business hours\n",
        "\n",
        "\n",
        "\n",
        "\n",
        "\n"
      ],
      "metadata": {
        "id": "BapLwusFnOue"
      }
    }
  ]
}